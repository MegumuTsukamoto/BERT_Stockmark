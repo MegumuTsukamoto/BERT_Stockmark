{
  "cells": [
    {
      "cell_type": "markdown",
      "metadata": {
        "id": "view-in-github",
        "colab_type": "text"
      },
      "source": [
        "<a href=\"https://colab.research.google.com/github/MegumuTsukamoto/BERT_Stockmark/blob/main/Chapter_5.ipynb\" target=\"_parent\"><img src=\"https://colab.research.google.com/assets/colab-badge.svg\" alt=\"Open In Colab\"/></a>"
      ]
    },
    {
      "cell_type": "markdown",
      "id": "0ed53ca9",
      "metadata": {
        "id": "0ed53ca9"
      },
      "source": [
        "$\\large{\\text{5. 文章の穴埋め}}$"
      ]
    },
    {
      "cell_type": "code",
      "source": [
        "from google.colab import drive\n",
        "drive.mount('/content/drive/')"
      ],
      "metadata": {
        "colab": {
          "base_uri": "https://localhost:8080/"
        },
        "id": "D9UasXB5Wjcu",
        "outputId": "b92e75f9-032f-4455-85ef-28a11ddae55d"
      },
      "id": "D9UasXB5Wjcu",
      "execution_count": 1,
      "outputs": [
        {
          "output_type": "stream",
          "name": "stdout",
          "text": [
            "Mounted at /content/drive/\n"
          ]
        }
      ]
    },
    {
      "cell_type": "markdown",
      "source": [
        "マスク付き言語モデルとしてのBERT...文章の1部のトークンを特殊トークン[MASK]に変換したものを入力として与え、[MASK]に入るものは何かを予測するタスクを用いて事前学習する。そのため、事前学習後のBERTでは一部が除かれた文章の穴埋めを行うことができる。"
      ],
      "metadata": {
        "id": "BeAVXZlBmXS4"
      },
      "id": "BeAVXZlBmXS4"
    },
    {
      "cell_type": "code",
      "execution_count": 2,
      "id": "fc5663f3",
      "metadata": {
        "colab": {
          "base_uri": "https://localhost:8080/"
        },
        "id": "fc5663f3",
        "outputId": "44565be1-6534-4ca7-e01f-b36985b2f97f"
      },
      "outputs": [
        {
          "output_type": "stream",
          "name": "stdout",
          "text": [
            "Looking in indexes: https://pypi.org/simple, https://us-python.pkg.dev/colab-wheels/public/simple/\n",
            "Collecting transformers[ja]\n",
            "  Downloading transformers-4.28.1-py3-none-any.whl (7.0 MB)\n",
            "\u001b[2K     \u001b[90m━━━━━━━━━━━━━━━━━━━━━━━━━━━━━━━━━━━━━━━━\u001b[0m \u001b[32m7.0/7.0 MB\u001b[0m \u001b[31m96.8 MB/s\u001b[0m eta \u001b[36m0:00:00\u001b[0m\n",
            "\u001b[?25hRequirement already satisfied: filelock in /usr/local/lib/python3.10/dist-packages (from transformers[ja]) (3.12.0)\n",
            "Collecting huggingface-hub<1.0,>=0.11.0 (from transformers[ja])\n",
            "  Downloading huggingface_hub-0.14.1-py3-none-any.whl (224 kB)\n",
            "\u001b[2K     \u001b[90m━━━━━━━━━━━━━━━━━━━━━━━━━━━━━━━━━━━━━━\u001b[0m \u001b[32m224.5/224.5 kB\u001b[0m \u001b[31m30.1 MB/s\u001b[0m eta \u001b[36m0:00:00\u001b[0m\n",
            "\u001b[?25hRequirement already satisfied: numpy>=1.17 in /usr/local/lib/python3.10/dist-packages (from transformers[ja]) (1.22.4)\n",
            "Requirement already satisfied: packaging>=20.0 in /usr/local/lib/python3.10/dist-packages (from transformers[ja]) (23.1)\n",
            "Requirement already satisfied: pyyaml>=5.1 in /usr/local/lib/python3.10/dist-packages (from transformers[ja]) (6.0)\n",
            "Requirement already satisfied: regex!=2019.12.17 in /usr/local/lib/python3.10/dist-packages (from transformers[ja]) (2022.10.31)\n",
            "Requirement already satisfied: requests in /usr/local/lib/python3.10/dist-packages (from transformers[ja]) (2.27.1)\n",
            "Collecting tokenizers!=0.11.3,<0.14,>=0.11.1 (from transformers[ja])\n",
            "  Downloading tokenizers-0.13.3-cp310-cp310-manylinux_2_17_x86_64.manylinux2014_x86_64.whl (7.8 MB)\n",
            "\u001b[2K     \u001b[90m━━━━━━━━━━━━━━━━━━━━━━━━━━━━━━━━━━━━━━━━\u001b[0m \u001b[32m7.8/7.8 MB\u001b[0m \u001b[31m117.3 MB/s\u001b[0m eta \u001b[36m0:00:00\u001b[0m\n",
            "\u001b[?25hRequirement already satisfied: tqdm>=4.27 in /usr/local/lib/python3.10/dist-packages (from transformers[ja]) (4.65.0)\n",
            "Collecting fugashi>=1.0 (from transformers[ja])\n",
            "  Downloading fugashi-1.2.1-cp310-cp310-manylinux_2_17_x86_64.manylinux2014_x86_64.whl (599 kB)\n",
            "\u001b[2K     \u001b[90m━━━━━━━━━━━━━━━━━━━━━━━━━━━━━━━━━━━━━━\u001b[0m \u001b[32m599.9/599.9 kB\u001b[0m \u001b[31m43.2 MB/s\u001b[0m eta \u001b[36m0:00:00\u001b[0m\n",
            "\u001b[?25hCollecting ipadic<2.0,>=1.0.0 (from transformers[ja])\n",
            "  Downloading ipadic-1.0.0.tar.gz (13.4 MB)\n",
            "\u001b[2K     \u001b[90m━━━━━━━━━━━━━━━━━━━━━━━━━━━━━━━━━━━━━━━━\u001b[0m \u001b[32m13.4/13.4 MB\u001b[0m \u001b[31m75.3 MB/s\u001b[0m eta \u001b[36m0:00:00\u001b[0m\n",
            "\u001b[?25h  Preparing metadata (setup.py) ... \u001b[?25l\u001b[?25hdone\n",
            "Collecting unidic-lite>=1.0.7 (from transformers[ja])\n",
            "  Downloading unidic-lite-1.0.8.tar.gz (47.4 MB)\n",
            "\u001b[2K     \u001b[90m━━━━━━━━━━━━━━━━━━━━━━━━━━━━━━━━━━━━━━━━\u001b[0m \u001b[32m47.4/47.4 MB\u001b[0m \u001b[31m17.3 MB/s\u001b[0m eta \u001b[36m0:00:00\u001b[0m\n",
            "\u001b[?25h  Preparing metadata (setup.py) ... \u001b[?25l\u001b[?25hdone\n",
            "Collecting unidic>=1.0.2 (from transformers[ja])\n",
            "  Downloading unidic-1.1.0.tar.gz (7.7 kB)\n",
            "  Preparing metadata (setup.py) ... \u001b[?25l\u001b[?25hdone\n",
            "Collecting sudachipy>=0.6.6 (from transformers[ja])\n",
            "  Downloading SudachiPy-0.6.7-cp310-cp310-manylinux_2_17_x86_64.manylinux2014_x86_64.whl (2.2 MB)\n",
            "\u001b[2K     \u001b[90m━━━━━━━━━━━━━━━━━━━━━━━━━━━━━━━━━━━━━━━━\u001b[0m \u001b[32m2.2/2.2 MB\u001b[0m \u001b[31m41.4 MB/s\u001b[0m eta \u001b[36m0:00:00\u001b[0m\n",
            "\u001b[?25hCollecting sudachidict-core>=20220729 (from transformers[ja])\n",
            "  Downloading SudachiDict-core-20230110.tar.gz (9.0 kB)\n",
            "  Preparing metadata (setup.py) ... \u001b[?25l\u001b[?25hdone\n",
            "Collecting rhoknp>=1.1.0 (from transformers[ja])\n",
            "  Downloading rhoknp-1.3.0-py3-none-any.whl (86 kB)\n",
            "\u001b[2K     \u001b[90m━━━━━━━━━━━━━━━━━━━━━━━━━━━━━━━━━━━━━━━━\u001b[0m \u001b[32m86.8/86.8 kB\u001b[0m \u001b[31m11.3 MB/s\u001b[0m eta \u001b[36m0:00:00\u001b[0m\n",
            "\u001b[?25hRequirement already satisfied: fsspec in /usr/local/lib/python3.10/dist-packages (from huggingface-hub<1.0,>=0.11.0->transformers[ja]) (2023.4.0)\n",
            "Requirement already satisfied: typing-extensions>=3.7.4.3 in /usr/local/lib/python3.10/dist-packages (from huggingface-hub<1.0,>=0.11.0->transformers[ja]) (4.5.0)\n",
            "Collecting wasabi<1.0.0,>=0.6.0 (from unidic>=1.0.2->transformers[ja])\n",
            "  Downloading wasabi-0.10.1-py3-none-any.whl (26 kB)\n",
            "Collecting plac<2.0.0,>=1.1.3 (from unidic>=1.0.2->transformers[ja])\n",
            "  Downloading plac-1.3.5-py2.py3-none-any.whl (22 kB)\n",
            "Requirement already satisfied: urllib3<1.27,>=1.21.1 in /usr/local/lib/python3.10/dist-packages (from requests->transformers[ja]) (1.26.15)\n",
            "Requirement already satisfied: certifi>=2017.4.17 in /usr/local/lib/python3.10/dist-packages (from requests->transformers[ja]) (2022.12.7)\n",
            "Requirement already satisfied: charset-normalizer~=2.0.0 in /usr/local/lib/python3.10/dist-packages (from requests->transformers[ja]) (2.0.12)\n",
            "Requirement already satisfied: idna<4,>=2.5 in /usr/local/lib/python3.10/dist-packages (from requests->transformers[ja]) (3.4)\n",
            "Building wheels for collected packages: ipadic, sudachidict-core, unidic, unidic-lite\n",
            "  Building wheel for ipadic (setup.py) ... \u001b[?25l\u001b[?25hdone\n",
            "  Created wheel for ipadic: filename=ipadic-1.0.0-py3-none-any.whl size=13556721 sha256=53229dac124789b291fa06ca08903cd66fc0b89f48cc9fb229b840a8a227718e\n",
            "  Stored in directory: /root/.cache/pip/wheels/5b/ea/e3/2f6e0860a327daba3b030853fce4483ed37468bbf1101c59c3\n",
            "  Building wheel for sudachidict-core (setup.py) ... \u001b[?25l\u001b[?25hdone\n",
            "  Created wheel for sudachidict-core: filename=SudachiDict_core-20230110-py3-none-any.whl size=71665396 sha256=e33e4b02ecf4aacbd4cd8410234929e62ea88e24e8369fc1fe4ea55abaa41c7d\n",
            "  Stored in directory: /root/.cache/pip/wheels/35/35/8a/5cd8203a86e68ccefc49d4a2975165bb9ee369d2693eb4049b\n",
            "  Building wheel for unidic (setup.py) ... \u001b[?25l\u001b[?25hdone\n",
            "  Created wheel for unidic: filename=unidic-1.1.0-py3-none-any.whl size=7425 sha256=cf176fc11c0dbc6fe5ad3fce315935f68304ea26b4504a4f12be0626b8050fa3\n",
            "  Stored in directory: /root/.cache/pip/wheels/7a/72/72/1f3d654c345ea69d5d51b531c90daf7ba14cc555eaf2c64ab0\n",
            "  Building wheel for unidic-lite (setup.py) ... \u001b[?25l\u001b[?25hdone\n",
            "  Created wheel for unidic-lite: filename=unidic_lite-1.0.8-py3-none-any.whl size=47658834 sha256=480cc44e2f2c8e0434c179f680604da53b90660b37db5b45ae4c641a79a20410\n",
            "  Stored in directory: /root/.cache/pip/wheels/89/e8/68/f9ac36b8cc6c8b3c96888cd57434abed96595d444f42243853\n",
            "Successfully built ipadic sudachidict-core unidic unidic-lite\n",
            "Installing collected packages: wasabi, unidic-lite, tokenizers, sudachipy, plac, ipadic, sudachidict-core, rhoknp, fugashi, unidic, huggingface-hub, transformers\n",
            "  Attempting uninstall: wasabi\n",
            "    Found existing installation: wasabi 1.1.1\n",
            "    Uninstalling wasabi-1.1.1:\n",
            "      Successfully uninstalled wasabi-1.1.1\n",
            "Successfully installed fugashi-1.2.1 huggingface-hub-0.14.1 ipadic-1.0.0 plac-1.3.5 rhoknp-1.3.0 sudachidict-core-20230110 sudachipy-0.6.7 tokenizers-0.13.3 transformers-4.28.1 unidic-1.1.0 unidic-lite-1.0.8 wasabi-0.10.1\n"
          ]
        }
      ],
      "source": [
        "# 5-1\n",
        "# PyTorchとMeCabはColaboratoryに最初からインストールされている\n",
        "# !pip install transformers=4.5.0 fugashi==1.1.0 ipadic==1.0.0 ではエラー。下記でFugashiもIpadicも入る\n",
        "!pip install transformers[ja]"
      ]
    },
    {
      "cell_type": "code",
      "execution_count": 4,
      "id": "d6111b46",
      "metadata": {
        "id": "d6111b46"
      },
      "outputs": [],
      "source": [
        "# 5-2\n",
        "# ライブラリの読み込み\n",
        "import numpy as np\n",
        "import torch\n",
        "# from transformers import BertJapanese-Tokenizer, BertForMaskedLM\n",
        "from transformers import BertJapaneseTokenizer, BertForMaskedLM # 今回はMaskedLMを使う"
      ]
    },
    {
      "cell_type": "code",
      "execution_count": 5,
      "id": "20ba40e7",
      "metadata": {
        "id": "20ba40e7",
        "outputId": "8051b702-777e-413c-e30d-451092a90a24",
        "colab": {
          "base_uri": "https://localhost:8080/",
          "height": 219,
          "referenced_widgets": [
            "a8fe03b35794432d9582440fa0bb1db0",
            "c0cb0ac8165848e3ae75cc879c20ae39",
            "a41ee34a2edc46cd931237c5941d2dee",
            "1b43434dbc434af7995070f8e25344c0",
            "4c82f7b7b705478f918fc9885291fd68",
            "a0ef639ad9ad48e1abff406e7ad037da",
            "b2cc5296c7614578930e2bb6046c85ff",
            "852b969fd5b44f85bcc0c21d1a5fba48",
            "908bfb34fa934cb4b949945131177491",
            "b8c06ff2a7d24b29a33b8a684a0b9321",
            "63617cb883024e4d8b817893c85ded9b",
            "57484f07ae604d2282269fbb4f20ba00",
            "674e5ea2274e48baa52f2090e8d47a04",
            "cfece42ce3d94c13a7ad1c249dabd0ae",
            "efdb9ddfdc1049d582c44d4740e5ad09",
            "4a4162fca7a046758575c6c9040b50ea",
            "70139d14bbad4e1db3624849754ca089",
            "8c258c47ab214bcea0a3e8cf548082e9",
            "d2a03be52b15487d8447e0f4aae2bccf",
            "d797cb8e5d9f4b15a9fd83aba717ec52",
            "975d447107074e51820f8e28704b0278",
            "0a4e4a44e0a5479a8a74248aa8f337bb",
            "a270e5eb4e414f67b33ff184ca23aae2",
            "824fd3a3483649f8a82f3202369f7371",
            "9ac51b1c8c9e46528ec984f0e0014342",
            "f1f0c1b9e2c74deeb398477c1c84d13e",
            "cb5c4e9bf7cc4a4eb6857d9aba29ff79",
            "0f0d421feac243e4bac76096620a7399",
            "09d1eeb201674752827121c094103274",
            "4781e2d8d39348158297290a7834f092",
            "b49a8b7878384750822619a45143c493",
            "24949bcff33c4585a22348a80d5054aa",
            "ee9301a6a5de452c84ad606763cdcffe",
            "53cffc83252c4dccbc67184c5c571551",
            "5e67902165dd436ab2003275ba4d4b30",
            "9cb50e57abd24e17b5213687c267180f",
            "e01e2665bc094b3d9e88e10b7869d95e",
            "bba786b3257f40a2882562c35f5363df",
            "994fbd1910d94c1dbe8ed1bee92f07ef",
            "67bdeb47c4c64a639d1fffe154b6f2b1",
            "a064cea83b1d475bb7f460ac8b4a6f4d",
            "feacfc872f884ab2aec005af95355234",
            "1e22e0d6c6304018ab556794ce425744",
            "a41a5501deef418f8d49f3a6b4fc28a2"
          ]
        }
      },
      "outputs": [
        {
          "output_type": "display_data",
          "data": {
            "text/plain": [
              "Downloading (…)solve/main/vocab.txt:   0%|          | 0.00/258k [00:00<?, ?B/s]"
            ],
            "application/vnd.jupyter.widget-view+json": {
              "version_major": 2,
              "version_minor": 0,
              "model_id": "a8fe03b35794432d9582440fa0bb1db0"
            }
          },
          "metadata": {}
        },
        {
          "output_type": "display_data",
          "data": {
            "text/plain": [
              "Downloading (…)okenizer_config.json:   0%|          | 0.00/110 [00:00<?, ?B/s]"
            ],
            "application/vnd.jupyter.widget-view+json": {
              "version_major": 2,
              "version_minor": 0,
              "model_id": "57484f07ae604d2282269fbb4f20ba00"
            }
          },
          "metadata": {}
        },
        {
          "output_type": "display_data",
          "data": {
            "text/plain": [
              "Downloading (…)lve/main/config.json:   0%|          | 0.00/479 [00:00<?, ?B/s]"
            ],
            "application/vnd.jupyter.widget-view+json": {
              "version_major": 2,
              "version_minor": 0,
              "model_id": "a270e5eb4e414f67b33ff184ca23aae2"
            }
          },
          "metadata": {}
        },
        {
          "output_type": "display_data",
          "data": {
            "text/plain": [
              "Downloading pytorch_model.bin:   0%|          | 0.00/445M [00:00<?, ?B/s]"
            ],
            "application/vnd.jupyter.widget-view+json": {
              "version_major": 2,
              "version_minor": 0,
              "model_id": "53cffc83252c4dccbc67184c5c571551"
            }
          },
          "metadata": {}
        },
        {
          "output_type": "stream",
          "name": "stderr",
          "text": [
            "Some weights of the model checkpoint at cl-tohoku/bert-base-japanese-whole-word-masking were not used when initializing BertForMaskedLM: ['cls.seq_relationship.bias', 'cls.seq_relationship.weight']\n",
            "- This IS expected if you are initializing BertForMaskedLM from the checkpoint of a model trained on another task or with another architecture (e.g. initializing a BertForSequenceClassification model from a BertForPreTraining model).\n",
            "- This IS NOT expected if you are initializing BertForMaskedLM from the checkpoint of a model that you expect to be exactly identical (initializing a BertForSequenceClassification model from a BertForSequenceClassification model).\n"
          ]
        }
      ],
      "source": [
        "# 5-3\n",
        "# 東北大学の日本語モデルによるトークナイザとモデルのロード\n",
        "model_name = 'cl-tohoku/bert-base-japanese-whole-word-masking'\n",
        "tokenizer = BertJapaneseTokenizer.from_pretrained(model_name)\n",
        "bert_mlm = BertForMaskedLM.from_pretrained(model_name)\n",
        "bert_mlm = bert_mlm.cuda() # モデルをGPUに載せる"
      ]
    },
    {
      "cell_type": "code",
      "execution_count": 6,
      "id": "f1e86a37",
      "metadata": {
        "id": "f1e86a37",
        "outputId": "3570a7fd-e92b-4eb0-91fa-a0e07345753c",
        "colab": {
          "base_uri": "https://localhost:8080/"
        }
      },
      "outputs": [
        {
          "output_type": "execute_result",
          "data": {
            "text/plain": [
              "['今日', 'は', '[MASK]', 'へ', '行く', '。']"
            ]
          },
          "metadata": {},
          "execution_count": 6
        }
      ],
      "source": [
        "# 5-4\n",
        "# 穴空き文章（MLMのインプット）のトークン化\n",
        "text = '今日は[MASK]へ行く。'\n",
        "tokenizer.tokenize(text)"
      ]
    },
    {
      "cell_type": "code",
      "source": [
        "# 5-5\n",
        "# BertForMaskedLM は特殊トークン[MASK]に入るトークンを語彙の中から予測する。\n",
        "# BertForMaskedLM の中にはBertModel と同様に、符号化された文章（トークン列）を入力する。\n",
        "# 文章を符号化し、GPUに配置する\n",
        "input_ids = tokenizer.encode(text, return_tensors='pt')\n",
        "input_ids = input_ids.cuda()\n",
        "\n",
        "# BERTに入力し、分類スコアを得る\n",
        "# 系列長を考える必要がないので、単にinput_idsのみ入力\n",
        "with torch.no_grad(): # 推論のみなので途中計算を保存しない\n",
        "  output = bert_mlm(input_ids=input_ids)\n",
        "  scores = output.logits"
      ],
      "metadata": {
        "id": "6-bMWm9aoWOO"
      },
      "id": "6-bMWm9aoWOO",
      "execution_count": 7,
      "outputs": []
    },
    {
      "cell_type": "code",
      "source": [
        "# 5-6\n",
        "# 上記scoresから、[MASK]に入るトークンを予測\n",
        "\n",
        "# ID列で、'[MASK]'の位置（IDの数は4）の位置を調べる（[CLS]:0番目からスタートして3番目）\n",
        "input_ids = input_ids.cpu() # CPUに移して\n",
        "input_ids = input_ids.numpy() # ndarrayに変換して\n",
        "mask_position = input_ids[0].tolist().index(4) # ようやくリスト型にできる？\n",
        "print(mask_position)\n",
        "\n",
        "# スコアが最も良いトークンのIDを取り出し、トークンに変換する（今は、'東京'が最もスコアが高い）\n",
        "id_best = scores[0, mask_position].argmax(-1).item()\n",
        "token_best = tokenizer.convert_ids_to_tokens(id_best)\n",
        "token_best = token_best.replace('##', '')\n",
        "\n",
        "# 上で求めたトークンを[MASK]の部分と入れ替える\n",
        "text = text.replace('[MASK]', token_best)\n",
        "print(text)"
      ],
      "metadata": {
        "colab": {
          "base_uri": "https://localhost:8080/"
        },
        "id": "vllesdi1vje4",
        "outputId": "f008d8cf-8eb7-443b-9b43-593146ba73ca"
      },
      "id": "vllesdi1vje4",
      "execution_count": 8,
      "outputs": [
        {
          "output_type": "stream",
          "name": "stdout",
          "text": [
            "3\n",
            "今日は東京へ行く。\n"
          ]
        }
      ]
    },
    {
      "cell_type": "code",
      "execution_count": 9,
      "id": "4c55d43b",
      "metadata": {
        "id": "4c55d43b",
        "colab": {
          "base_uri": "https://localhost:8080/"
        },
        "outputId": "bb01d94f-5827-443f-c96a-12750a25d2cf"
      },
      "outputs": [
        {
          "output_type": "stream",
          "name": "stdout",
          "text": [
            "['今日は東京へ行く。', '今日はハワイへ行く。', '今日は学校へ行く。', '今日はニューヨークへ行く。', '今日はどこへ行く。', '今日は空港へ行く。', '今日はアメリカへ行く。', '今日は病院へ行く。', '今日はそこへ行く。', '今日はロンドンへ行く。']\n",
            "[9.178561  9.145953  8.923238  8.838815  8.319213  8.1805105 7.91759\n",
            " 7.8333464 7.826694  7.807024 ]\n",
            "--------------------------------------------------\n",
            "アンパックした場合\n",
            "--------------------------------------------------\n",
            "今日は東京へ行く。\n",
            "今日はハワイへ行く。\n",
            "今日は学校へ行く。\n",
            "今日はニューヨークへ行く。\n",
            "今日はどこへ行く。\n",
            "今日は空港へ行く。\n",
            "今日はアメリカへ行く。\n",
            "今日は病院へ行く。\n",
            "今日はそこへ行く。\n",
            "今日はロンドンへ行く。\n"
          ]
        }
      ],
      "source": [
        "# 5-7\n",
        "# [MASK]を、最もスコアが高い'東京'だけじゃなく、上位10個のトークンに置き換えた場合の処理を行う関数\n",
        "def predict_mask_topk(text, tokenizer, bert_mlm, num_topk):\n",
        "  \n",
        "  # 文章中の最初の[MASK]をスコアの上位のトークンに置き換える\n",
        "  # 上位何個を[MASK]の代わりに入れるかはnum_topk=で指定\n",
        "  # 出力は穴埋めされた文章のリストと、置き換えられた\n",
        "  \n",
        "  # 文章を符号化し、BERTで分類スコアを得る\n",
        "  input_ids = tokenizer.encode(text, return_tensors='pt')\n",
        "  input_ids = input_ids.cuda()\n",
        "  with torch.no_grad(): # 推論のみなので途中計算を保存しない\n",
        "    output = bert_mlm(input_ids=input_ids)\n",
        "    scores = output.logits\n",
        "  \n",
        "  # スコアが上位のトークンとそのスコアを求める\n",
        "  input_ids = input_ids.cpu()\n",
        "  input_ids = input_ids.numpy()\n",
        "  mask_position = input_ids[0].tolist().index(4)\n",
        "  topk = scores[0, mask_position].topk(num_topk)\n",
        "  ids_topk = topk.indices # トークンのID\n",
        "  tokens_topk = tokenizer.convert_ids_to_tokens(ids_topk) # IDからトークンに変換\n",
        "  scores_topk = topk.values.cpu().numpy() # スコア\n",
        "\n",
        "  # 上で求めたトークンを[MASK]の部分と入れ替える\n",
        "  text_topk = []\n",
        "  for token in tokens_topk:\n",
        "    token = token.replace('##', '')\n",
        "    text_topk.append(text.replace('[MASK]', token, 1))\n",
        "\n",
        "  return text_topk, scores_topk\n",
        "\n",
        "text = '今日は[MASK]へ行く。'\n",
        "text_topk, scores_topk = predict_mask_topk(text, tokenizer, bert_mlm, num_topk=10)\n",
        "print(text_topk, sep='\\n')\n",
        "print(scores_topk, sep='\\n')\n",
        "print('-'*50)\n",
        "print('アンパックした場合')\n",
        "print('-'*50)\n",
        "print(*text_topk, sep='\\n')"
      ]
    },
    {
      "cell_type": "markdown",
      "source": [
        "（注）ここまでは、[MASK]が１つの場合の穴埋めを考えたが、以下のような２つある場合も考えることができる。\n",
        "$$\\text{今日は [MASK] [MASK] へ行く。}$$\n",
        "1つの[MASK]に対して32,000通りの候補があるため、２つの場合は32,000×32,000通りの候補がある。このため、近似的な手法で「貪欲法」というものがある。これは、まず一番最初の[MASK]を最も高いスコアのトークンで穴埋めをし、その穴埋め後の文章から次の[MASK]の穴埋めを逐次的に行っていくという方法である。"
      ],
      "metadata": {
        "id": "YPls1qX-NNsf"
      },
      "id": "YPls1qX-NNsf"
    },
    {
      "cell_type": "code",
      "execution_count": 10,
      "id": "41bcd183",
      "metadata": {
        "id": "41bcd183",
        "colab": {
          "base_uri": "https://localhost:8080/",
          "height": 35
        },
        "outputId": "50bc1dcb-3401-4323-911a-dd3e99e31098"
      },
      "outputs": [
        {
          "output_type": "execute_result",
          "data": {
            "text/plain": [
              "'今日は、東京へ行く。'"
            ],
            "application/vnd.google.colaboratory.intrinsic+json": {
              "type": "string"
            }
          },
          "metadata": {},
          "execution_count": 10
        }
      ],
      "source": [
        "# 5-8\n",
        "# 貪欲法を使用して、文章の穴埋めを行う。\n",
        "def greedy_prediction(text, tokenizer, bert_mlm):\n",
        "  for _ in range(text.count('[MASK]')):\n",
        "    text = predict_mask_topk(text, tokenizer, bert_mlm, 1)[0][0]\n",
        "  return text\n",
        "\n",
        "text = '今日は[MASK][MASK]へ行く。' # [MASK]が2つある文章\n",
        "greedy_prediction(text, tokenizer, bert_mlm)"
      ]
    },
    {
      "cell_type": "code",
      "execution_count": 11,
      "id": "769305a0",
      "metadata": {
        "id": "769305a0",
        "outputId": "a96e5698-807f-4fb7-c647-b702680999f0",
        "colab": {
          "base_uri": "https://localhost:8080/",
          "height": 35
        }
      },
      "outputs": [
        {
          "output_type": "execute_result",
          "data": {
            "text/plain": [
              "'今日は社会社会的な地位'"
            ],
            "application/vnd.google.colaboratory.intrinsic+json": {
              "type": "string"
            }
          },
          "metadata": {},
          "execution_count": 11
        }
      ],
      "source": [
        "# 5-9\n",
        "# 一方、BERTは文章を前から順番に生成していくのは得意でない\n",
        "text = '今日は[MASK][MASK][MASK][MASK][MASK]' # [MASK]だらけの文章\n",
        "greedy_prediction(text, tokenizer, bert_mlm) # デタラメな文章に"
      ]
    },
    {
      "cell_type": "markdown",
      "source": [
        "このように、大部分が[MASK]の場合、デタラメな文章が生成される。これはBERTの事前学習の段階で、文章のうちごく一部分のトークンのみを[MASK]に置き換えて、周りの文脈からトークンを予測するというタスクを用いているからであり、大部分が[MASK]の場合における予測は事前学習していない。文章を前から順番に生成するためには、事前学習の段階で現在までのトークンから次のトークンを予測するというタスクを用いる必要があり、GPTモデルはこのような方式で事前学習を行っている。"
      ],
      "metadata": {
        "id": "mIAShvvaRkZA"
      },
      "id": "mIAShvvaRkZA"
    },
    {
      "cell_type": "markdown",
      "source": [
        "ビームサーチ...貪欲法では、前から順番にスコア最高のトークンで置き換えを行っているが、最終的な合計スコアの最適化になっているとは限らない。より良い近似手法がビームサーチで、これは複数文章を出力できる。これは、一番最初の[MASK]において、スコアが高い10個のトークンで穴埋めした10個の穴埋め後文章を作り、次の[MASK]においても、スコアが高い10個のトークンで穴埋めした10個の穴埋め後文章を作り、最終的に100個の文章から合計スコアが高い10個の文章をアウトプットとする。"
      ],
      "metadata": {
        "id": "7qBks3lvTHgt"
      },
      "id": "7qBks3lvTHgt"
    },
    {
      "cell_type": "code",
      "execution_count": 13,
      "id": "22cbc2da",
      "metadata": {
        "id": "22cbc2da",
        "colab": {
          "base_uri": "https://localhost:8080/"
        },
        "outputId": "e23acc46-0869-45d1-818f-2f7cfea89bc6"
      },
      "outputs": [
        {
          "output_type": "stream",
          "name": "stdout",
          "text": [
            "['今日は、東京へ行く。', '今日は、ハワイへ行く。', '今日は、学校へ行く。', '今日は、ニューヨークへ行く。', '今日は、空港へ行く。', '今日は、北海道へ行く。', '今日は、パリへ行く。', '今日は、アメリカへ行く。', '今日は、日本へ行く。', '今日は、病院へ行く。']\n",
            "--------------------------------------------------\n",
            "アンパックした場合\n",
            "--------------------------------------------------\n",
            "今日は、東京へ行く。\n",
            "今日は、ハワイへ行く。\n",
            "今日は、学校へ行く。\n",
            "今日は、ニューヨークへ行く。\n",
            "今日は、空港へ行く。\n",
            "今日は、北海道へ行く。\n",
            "今日は、パリへ行く。\n",
            "今日は、アメリカへ行く。\n",
            "今日は、日本へ行く。\n",
            "今日は、病院へ行く。\n"
          ]
        }
      ],
      "source": [
        "# 5-10\n",
        "# ビームサーチで文章の穴埋めを行う\n",
        "def beam_search(text, tokenizer, bert_mlm, num_topk):\n",
        "  \n",
        "  num_mask = text.count('[MASK]')\n",
        "  text_topk = [text]\n",
        "  scores_topk = np.array([0])\n",
        "\n",
        "  # 現在得られている、それぞれの文章に対して、最初の[MASK]をスコアが上位のトークンで穴埋めする\n",
        "  for _ in range(num_mask):\n",
        "    text_candidates = [] # それぞれの文章を穴埋めした結果を追加する\n",
        "    score_candidates = [] # 穴埋めに使ったトークンのスコアを追加する\n",
        "\n",
        "    for text_mask, score in zip(text_topk, scores_topk):\n",
        "      text_topk_inner, scores_topk_inner = predict_mask_topk(\n",
        "          text_mask, tokenizer, bert_mlm, num_topk\n",
        "      )\n",
        "      text_candidates.extend(text_topk_inner)\n",
        "      score_candidates.append(score + scores_topk_inner)\n",
        "\n",
        "    # 穴埋めによって生成された文章の中から合計スコアの高いものを選ぶ\n",
        "    score_candidates = np.hstack(score_candidates) # 横方向に結合\n",
        "    idx_list = score_candidates.argsort()[::-1][:num_topk]\n",
        "    text_topk = [text_candidates[idx] for idx in idx_list]\n",
        "    score_topk = score_candidates[idx_list]\n",
        "\n",
        "  return text_topk\n",
        "\n",
        "text = '今日は[MASK][MASK]へ行く。'\n",
        "text_topk = beam_search(text, tokenizer, bert_mlm, num_topk=10)\n",
        "print(text_topk, sep='\\n')\n",
        "print('-'*50)\n",
        "print('アンパックした場合')\n",
        "print('-'*50)\n",
        "print(*text_topk, sep='\\n') # 貪欲法と同じく自然な文章が出力され、バリエーションにも富んでいる"
      ]
    },
    {
      "cell_type": "code",
      "execution_count": 14,
      "id": "0f63a856",
      "metadata": {
        "id": "0f63a856",
        "outputId": "a85a8e00-68a7-41b1-d95e-b67defa33f44",
        "colab": {
          "base_uri": "https://localhost:8080/"
        }
      },
      "outputs": [
        {
          "output_type": "stream",
          "name": "stdout",
          "text": [
            "今日は社会社会的な地位\n",
            "今日は社会社会的な組織\n",
            "今日は社会社会的なもの\n",
            "今日は社会社会的な活動\n",
            "今日は社会社会的な団体\n",
            "今日は社会社会的な状況\n",
            "今日は社会社会的な概念\n",
            "今日は社会社会的な役割\n",
            "今日は社会社会的な存在\n",
            "今日は社会社会的な意味\n"
          ]
        }
      ],
      "source": [
        "# 5-11\n",
        "# 貪欲法と同様に、大部分が[MASK]の文章では自然な文章の生成は難しい\n",
        "text = '今日は[MASK][MASK][MASK][MASK][MASK]'\n",
        "text_topk = beam_search(text, tokenizer, bert_mlm, num_topk=10)\n",
        "print(*text_topk, sep='\\n') # 貪欲法と同じく自然な文章が出力され、バリエーションにも富んでいる"
      ]
    }
  ],
  "metadata": {
    "kernelspec": {
      "display_name": "Python 3.7.13 ('base')",
      "language": "python",
      "name": "python3"
    },
    "language_info": {
      "codemirror_mode": {
        "name": "ipython",
        "version": 3
      },
      "file_extension": ".py",
      "mimetype": "text/x-python",
      "name": "python",
      "nbconvert_exporter": "python",
      "pygments_lexer": "ipython3",
      "version": "3.7.13"
    },
    "vscode": {
      "interpreter": {
        "hash": "40d3a090f54c6569ab1632332b64b2c03c39dcf918b08424e98f38b5ae0af88f"
      }
    },
    "colab": {
      "provenance": [],
      "include_colab_link": true
    },
    "accelerator": "GPU",
    "gpuClass": "standard",
    "widgets": {
      "application/vnd.jupyter.widget-state+json": {
        "a8fe03b35794432d9582440fa0bb1db0": {
          "model_module": "@jupyter-widgets/controls",
          "model_name": "HBoxModel",
          "model_module_version": "1.5.0",
          "state": {
            "_dom_classes": [],
            "_model_module": "@jupyter-widgets/controls",
            "_model_module_version": "1.5.0",
            "_model_name": "HBoxModel",
            "_view_count": null,
            "_view_module": "@jupyter-widgets/controls",
            "_view_module_version": "1.5.0",
            "_view_name": "HBoxView",
            "box_style": "",
            "children": [
              "IPY_MODEL_c0cb0ac8165848e3ae75cc879c20ae39",
              "IPY_MODEL_a41ee34a2edc46cd931237c5941d2dee",
              "IPY_MODEL_1b43434dbc434af7995070f8e25344c0"
            ],
            "layout": "IPY_MODEL_4c82f7b7b705478f918fc9885291fd68"
          }
        },
        "c0cb0ac8165848e3ae75cc879c20ae39": {
          "model_module": "@jupyter-widgets/controls",
          "model_name": "HTMLModel",
          "model_module_version": "1.5.0",
          "state": {
            "_dom_classes": [],
            "_model_module": "@jupyter-widgets/controls",
            "_model_module_version": "1.5.0",
            "_model_name": "HTMLModel",
            "_view_count": null,
            "_view_module": "@jupyter-widgets/controls",
            "_view_module_version": "1.5.0",
            "_view_name": "HTMLView",
            "description": "",
            "description_tooltip": null,
            "layout": "IPY_MODEL_a0ef639ad9ad48e1abff406e7ad037da",
            "placeholder": "​",
            "style": "IPY_MODEL_b2cc5296c7614578930e2bb6046c85ff",
            "value": "Downloading (…)solve/main/vocab.txt: 100%"
          }
        },
        "a41ee34a2edc46cd931237c5941d2dee": {
          "model_module": "@jupyter-widgets/controls",
          "model_name": "FloatProgressModel",
          "model_module_version": "1.5.0",
          "state": {
            "_dom_classes": [],
            "_model_module": "@jupyter-widgets/controls",
            "_model_module_version": "1.5.0",
            "_model_name": "FloatProgressModel",
            "_view_count": null,
            "_view_module": "@jupyter-widgets/controls",
            "_view_module_version": "1.5.0",
            "_view_name": "ProgressView",
            "bar_style": "success",
            "description": "",
            "description_tooltip": null,
            "layout": "IPY_MODEL_852b969fd5b44f85bcc0c21d1a5fba48",
            "max": 257706,
            "min": 0,
            "orientation": "horizontal",
            "style": "IPY_MODEL_908bfb34fa934cb4b949945131177491",
            "value": 257706
          }
        },
        "1b43434dbc434af7995070f8e25344c0": {
          "model_module": "@jupyter-widgets/controls",
          "model_name": "HTMLModel",
          "model_module_version": "1.5.0",
          "state": {
            "_dom_classes": [],
            "_model_module": "@jupyter-widgets/controls",
            "_model_module_version": "1.5.0",
            "_model_name": "HTMLModel",
            "_view_count": null,
            "_view_module": "@jupyter-widgets/controls",
            "_view_module_version": "1.5.0",
            "_view_name": "HTMLView",
            "description": "",
            "description_tooltip": null,
            "layout": "IPY_MODEL_b8c06ff2a7d24b29a33b8a684a0b9321",
            "placeholder": "​",
            "style": "IPY_MODEL_63617cb883024e4d8b817893c85ded9b",
            "value": " 258k/258k [00:00&lt;00:00, 422kB/s]"
          }
        },
        "4c82f7b7b705478f918fc9885291fd68": {
          "model_module": "@jupyter-widgets/base",
          "model_name": "LayoutModel",
          "model_module_version": "1.2.0",
          "state": {
            "_model_module": "@jupyter-widgets/base",
            "_model_module_version": "1.2.0",
            "_model_name": "LayoutModel",
            "_view_count": null,
            "_view_module": "@jupyter-widgets/base",
            "_view_module_version": "1.2.0",
            "_view_name": "LayoutView",
            "align_content": null,
            "align_items": null,
            "align_self": null,
            "border": null,
            "bottom": null,
            "display": null,
            "flex": null,
            "flex_flow": null,
            "grid_area": null,
            "grid_auto_columns": null,
            "grid_auto_flow": null,
            "grid_auto_rows": null,
            "grid_column": null,
            "grid_gap": null,
            "grid_row": null,
            "grid_template_areas": null,
            "grid_template_columns": null,
            "grid_template_rows": null,
            "height": null,
            "justify_content": null,
            "justify_items": null,
            "left": null,
            "margin": null,
            "max_height": null,
            "max_width": null,
            "min_height": null,
            "min_width": null,
            "object_fit": null,
            "object_position": null,
            "order": null,
            "overflow": null,
            "overflow_x": null,
            "overflow_y": null,
            "padding": null,
            "right": null,
            "top": null,
            "visibility": null,
            "width": null
          }
        },
        "a0ef639ad9ad48e1abff406e7ad037da": {
          "model_module": "@jupyter-widgets/base",
          "model_name": "LayoutModel",
          "model_module_version": "1.2.0",
          "state": {
            "_model_module": "@jupyter-widgets/base",
            "_model_module_version": "1.2.0",
            "_model_name": "LayoutModel",
            "_view_count": null,
            "_view_module": "@jupyter-widgets/base",
            "_view_module_version": "1.2.0",
            "_view_name": "LayoutView",
            "align_content": null,
            "align_items": null,
            "align_self": null,
            "border": null,
            "bottom": null,
            "display": null,
            "flex": null,
            "flex_flow": null,
            "grid_area": null,
            "grid_auto_columns": null,
            "grid_auto_flow": null,
            "grid_auto_rows": null,
            "grid_column": null,
            "grid_gap": null,
            "grid_row": null,
            "grid_template_areas": null,
            "grid_template_columns": null,
            "grid_template_rows": null,
            "height": null,
            "justify_content": null,
            "justify_items": null,
            "left": null,
            "margin": null,
            "max_height": null,
            "max_width": null,
            "min_height": null,
            "min_width": null,
            "object_fit": null,
            "object_position": null,
            "order": null,
            "overflow": null,
            "overflow_x": null,
            "overflow_y": null,
            "padding": null,
            "right": null,
            "top": null,
            "visibility": null,
            "width": null
          }
        },
        "b2cc5296c7614578930e2bb6046c85ff": {
          "model_module": "@jupyter-widgets/controls",
          "model_name": "DescriptionStyleModel",
          "model_module_version": "1.5.0",
          "state": {
            "_model_module": "@jupyter-widgets/controls",
            "_model_module_version": "1.5.0",
            "_model_name": "DescriptionStyleModel",
            "_view_count": null,
            "_view_module": "@jupyter-widgets/base",
            "_view_module_version": "1.2.0",
            "_view_name": "StyleView",
            "description_width": ""
          }
        },
        "852b969fd5b44f85bcc0c21d1a5fba48": {
          "model_module": "@jupyter-widgets/base",
          "model_name": "LayoutModel",
          "model_module_version": "1.2.0",
          "state": {
            "_model_module": "@jupyter-widgets/base",
            "_model_module_version": "1.2.0",
            "_model_name": "LayoutModel",
            "_view_count": null,
            "_view_module": "@jupyter-widgets/base",
            "_view_module_version": "1.2.0",
            "_view_name": "LayoutView",
            "align_content": null,
            "align_items": null,
            "align_self": null,
            "border": null,
            "bottom": null,
            "display": null,
            "flex": null,
            "flex_flow": null,
            "grid_area": null,
            "grid_auto_columns": null,
            "grid_auto_flow": null,
            "grid_auto_rows": null,
            "grid_column": null,
            "grid_gap": null,
            "grid_row": null,
            "grid_template_areas": null,
            "grid_template_columns": null,
            "grid_template_rows": null,
            "height": null,
            "justify_content": null,
            "justify_items": null,
            "left": null,
            "margin": null,
            "max_height": null,
            "max_width": null,
            "min_height": null,
            "min_width": null,
            "object_fit": null,
            "object_position": null,
            "order": null,
            "overflow": null,
            "overflow_x": null,
            "overflow_y": null,
            "padding": null,
            "right": null,
            "top": null,
            "visibility": null,
            "width": null
          }
        },
        "908bfb34fa934cb4b949945131177491": {
          "model_module": "@jupyter-widgets/controls",
          "model_name": "ProgressStyleModel",
          "model_module_version": "1.5.0",
          "state": {
            "_model_module": "@jupyter-widgets/controls",
            "_model_module_version": "1.5.0",
            "_model_name": "ProgressStyleModel",
            "_view_count": null,
            "_view_module": "@jupyter-widgets/base",
            "_view_module_version": "1.2.0",
            "_view_name": "StyleView",
            "bar_color": null,
            "description_width": ""
          }
        },
        "b8c06ff2a7d24b29a33b8a684a0b9321": {
          "model_module": "@jupyter-widgets/base",
          "model_name": "LayoutModel",
          "model_module_version": "1.2.0",
          "state": {
            "_model_module": "@jupyter-widgets/base",
            "_model_module_version": "1.2.0",
            "_model_name": "LayoutModel",
            "_view_count": null,
            "_view_module": "@jupyter-widgets/base",
            "_view_module_version": "1.2.0",
            "_view_name": "LayoutView",
            "align_content": null,
            "align_items": null,
            "align_self": null,
            "border": null,
            "bottom": null,
            "display": null,
            "flex": null,
            "flex_flow": null,
            "grid_area": null,
            "grid_auto_columns": null,
            "grid_auto_flow": null,
            "grid_auto_rows": null,
            "grid_column": null,
            "grid_gap": null,
            "grid_row": null,
            "grid_template_areas": null,
            "grid_template_columns": null,
            "grid_template_rows": null,
            "height": null,
            "justify_content": null,
            "justify_items": null,
            "left": null,
            "margin": null,
            "max_height": null,
            "max_width": null,
            "min_height": null,
            "min_width": null,
            "object_fit": null,
            "object_position": null,
            "order": null,
            "overflow": null,
            "overflow_x": null,
            "overflow_y": null,
            "padding": null,
            "right": null,
            "top": null,
            "visibility": null,
            "width": null
          }
        },
        "63617cb883024e4d8b817893c85ded9b": {
          "model_module": "@jupyter-widgets/controls",
          "model_name": "DescriptionStyleModel",
          "model_module_version": "1.5.0",
          "state": {
            "_model_module": "@jupyter-widgets/controls",
            "_model_module_version": "1.5.0",
            "_model_name": "DescriptionStyleModel",
            "_view_count": null,
            "_view_module": "@jupyter-widgets/base",
            "_view_module_version": "1.2.0",
            "_view_name": "StyleView",
            "description_width": ""
          }
        },
        "57484f07ae604d2282269fbb4f20ba00": {
          "model_module": "@jupyter-widgets/controls",
          "model_name": "HBoxModel",
          "model_module_version": "1.5.0",
          "state": {
            "_dom_classes": [],
            "_model_module": "@jupyter-widgets/controls",
            "_model_module_version": "1.5.0",
            "_model_name": "HBoxModel",
            "_view_count": null,
            "_view_module": "@jupyter-widgets/controls",
            "_view_module_version": "1.5.0",
            "_view_name": "HBoxView",
            "box_style": "",
            "children": [
              "IPY_MODEL_674e5ea2274e48baa52f2090e8d47a04",
              "IPY_MODEL_cfece42ce3d94c13a7ad1c249dabd0ae",
              "IPY_MODEL_efdb9ddfdc1049d582c44d4740e5ad09"
            ],
            "layout": "IPY_MODEL_4a4162fca7a046758575c6c9040b50ea"
          }
        },
        "674e5ea2274e48baa52f2090e8d47a04": {
          "model_module": "@jupyter-widgets/controls",
          "model_name": "HTMLModel",
          "model_module_version": "1.5.0",
          "state": {
            "_dom_classes": [],
            "_model_module": "@jupyter-widgets/controls",
            "_model_module_version": "1.5.0",
            "_model_name": "HTMLModel",
            "_view_count": null,
            "_view_module": "@jupyter-widgets/controls",
            "_view_module_version": "1.5.0",
            "_view_name": "HTMLView",
            "description": "",
            "description_tooltip": null,
            "layout": "IPY_MODEL_70139d14bbad4e1db3624849754ca089",
            "placeholder": "​",
            "style": "IPY_MODEL_8c258c47ab214bcea0a3e8cf548082e9",
            "value": "Downloading (…)okenizer_config.json: 100%"
          }
        },
        "cfece42ce3d94c13a7ad1c249dabd0ae": {
          "model_module": "@jupyter-widgets/controls",
          "model_name": "FloatProgressModel",
          "model_module_version": "1.5.0",
          "state": {
            "_dom_classes": [],
            "_model_module": "@jupyter-widgets/controls",
            "_model_module_version": "1.5.0",
            "_model_name": "FloatProgressModel",
            "_view_count": null,
            "_view_module": "@jupyter-widgets/controls",
            "_view_module_version": "1.5.0",
            "_view_name": "ProgressView",
            "bar_style": "success",
            "description": "",
            "description_tooltip": null,
            "layout": "IPY_MODEL_d2a03be52b15487d8447e0f4aae2bccf",
            "max": 110,
            "min": 0,
            "orientation": "horizontal",
            "style": "IPY_MODEL_d797cb8e5d9f4b15a9fd83aba717ec52",
            "value": 110
          }
        },
        "efdb9ddfdc1049d582c44d4740e5ad09": {
          "model_module": "@jupyter-widgets/controls",
          "model_name": "HTMLModel",
          "model_module_version": "1.5.0",
          "state": {
            "_dom_classes": [],
            "_model_module": "@jupyter-widgets/controls",
            "_model_module_version": "1.5.0",
            "_model_name": "HTMLModel",
            "_view_count": null,
            "_view_module": "@jupyter-widgets/controls",
            "_view_module_version": "1.5.0",
            "_view_name": "HTMLView",
            "description": "",
            "description_tooltip": null,
            "layout": "IPY_MODEL_975d447107074e51820f8e28704b0278",
            "placeholder": "​",
            "style": "IPY_MODEL_0a4e4a44e0a5479a8a74248aa8f337bb",
            "value": " 110/110 [00:00&lt;00:00, 1.56kB/s]"
          }
        },
        "4a4162fca7a046758575c6c9040b50ea": {
          "model_module": "@jupyter-widgets/base",
          "model_name": "LayoutModel",
          "model_module_version": "1.2.0",
          "state": {
            "_model_module": "@jupyter-widgets/base",
            "_model_module_version": "1.2.0",
            "_model_name": "LayoutModel",
            "_view_count": null,
            "_view_module": "@jupyter-widgets/base",
            "_view_module_version": "1.2.0",
            "_view_name": "LayoutView",
            "align_content": null,
            "align_items": null,
            "align_self": null,
            "border": null,
            "bottom": null,
            "display": null,
            "flex": null,
            "flex_flow": null,
            "grid_area": null,
            "grid_auto_columns": null,
            "grid_auto_flow": null,
            "grid_auto_rows": null,
            "grid_column": null,
            "grid_gap": null,
            "grid_row": null,
            "grid_template_areas": null,
            "grid_template_columns": null,
            "grid_template_rows": null,
            "height": null,
            "justify_content": null,
            "justify_items": null,
            "left": null,
            "margin": null,
            "max_height": null,
            "max_width": null,
            "min_height": null,
            "min_width": null,
            "object_fit": null,
            "object_position": null,
            "order": null,
            "overflow": null,
            "overflow_x": null,
            "overflow_y": null,
            "padding": null,
            "right": null,
            "top": null,
            "visibility": null,
            "width": null
          }
        },
        "70139d14bbad4e1db3624849754ca089": {
          "model_module": "@jupyter-widgets/base",
          "model_name": "LayoutModel",
          "model_module_version": "1.2.0",
          "state": {
            "_model_module": "@jupyter-widgets/base",
            "_model_module_version": "1.2.0",
            "_model_name": "LayoutModel",
            "_view_count": null,
            "_view_module": "@jupyter-widgets/base",
            "_view_module_version": "1.2.0",
            "_view_name": "LayoutView",
            "align_content": null,
            "align_items": null,
            "align_self": null,
            "border": null,
            "bottom": null,
            "display": null,
            "flex": null,
            "flex_flow": null,
            "grid_area": null,
            "grid_auto_columns": null,
            "grid_auto_flow": null,
            "grid_auto_rows": null,
            "grid_column": null,
            "grid_gap": null,
            "grid_row": null,
            "grid_template_areas": null,
            "grid_template_columns": null,
            "grid_template_rows": null,
            "height": null,
            "justify_content": null,
            "justify_items": null,
            "left": null,
            "margin": null,
            "max_height": null,
            "max_width": null,
            "min_height": null,
            "min_width": null,
            "object_fit": null,
            "object_position": null,
            "order": null,
            "overflow": null,
            "overflow_x": null,
            "overflow_y": null,
            "padding": null,
            "right": null,
            "top": null,
            "visibility": null,
            "width": null
          }
        },
        "8c258c47ab214bcea0a3e8cf548082e9": {
          "model_module": "@jupyter-widgets/controls",
          "model_name": "DescriptionStyleModel",
          "model_module_version": "1.5.0",
          "state": {
            "_model_module": "@jupyter-widgets/controls",
            "_model_module_version": "1.5.0",
            "_model_name": "DescriptionStyleModel",
            "_view_count": null,
            "_view_module": "@jupyter-widgets/base",
            "_view_module_version": "1.2.0",
            "_view_name": "StyleView",
            "description_width": ""
          }
        },
        "d2a03be52b15487d8447e0f4aae2bccf": {
          "model_module": "@jupyter-widgets/base",
          "model_name": "LayoutModel",
          "model_module_version": "1.2.0",
          "state": {
            "_model_module": "@jupyter-widgets/base",
            "_model_module_version": "1.2.0",
            "_model_name": "LayoutModel",
            "_view_count": null,
            "_view_module": "@jupyter-widgets/base",
            "_view_module_version": "1.2.0",
            "_view_name": "LayoutView",
            "align_content": null,
            "align_items": null,
            "align_self": null,
            "border": null,
            "bottom": null,
            "display": null,
            "flex": null,
            "flex_flow": null,
            "grid_area": null,
            "grid_auto_columns": null,
            "grid_auto_flow": null,
            "grid_auto_rows": null,
            "grid_column": null,
            "grid_gap": null,
            "grid_row": null,
            "grid_template_areas": null,
            "grid_template_columns": null,
            "grid_template_rows": null,
            "height": null,
            "justify_content": null,
            "justify_items": null,
            "left": null,
            "margin": null,
            "max_height": null,
            "max_width": null,
            "min_height": null,
            "min_width": null,
            "object_fit": null,
            "object_position": null,
            "order": null,
            "overflow": null,
            "overflow_x": null,
            "overflow_y": null,
            "padding": null,
            "right": null,
            "top": null,
            "visibility": null,
            "width": null
          }
        },
        "d797cb8e5d9f4b15a9fd83aba717ec52": {
          "model_module": "@jupyter-widgets/controls",
          "model_name": "ProgressStyleModel",
          "model_module_version": "1.5.0",
          "state": {
            "_model_module": "@jupyter-widgets/controls",
            "_model_module_version": "1.5.0",
            "_model_name": "ProgressStyleModel",
            "_view_count": null,
            "_view_module": "@jupyter-widgets/base",
            "_view_module_version": "1.2.0",
            "_view_name": "StyleView",
            "bar_color": null,
            "description_width": ""
          }
        },
        "975d447107074e51820f8e28704b0278": {
          "model_module": "@jupyter-widgets/base",
          "model_name": "LayoutModel",
          "model_module_version": "1.2.0",
          "state": {
            "_model_module": "@jupyter-widgets/base",
            "_model_module_version": "1.2.0",
            "_model_name": "LayoutModel",
            "_view_count": null,
            "_view_module": "@jupyter-widgets/base",
            "_view_module_version": "1.2.0",
            "_view_name": "LayoutView",
            "align_content": null,
            "align_items": null,
            "align_self": null,
            "border": null,
            "bottom": null,
            "display": null,
            "flex": null,
            "flex_flow": null,
            "grid_area": null,
            "grid_auto_columns": null,
            "grid_auto_flow": null,
            "grid_auto_rows": null,
            "grid_column": null,
            "grid_gap": null,
            "grid_row": null,
            "grid_template_areas": null,
            "grid_template_columns": null,
            "grid_template_rows": null,
            "height": null,
            "justify_content": null,
            "justify_items": null,
            "left": null,
            "margin": null,
            "max_height": null,
            "max_width": null,
            "min_height": null,
            "min_width": null,
            "object_fit": null,
            "object_position": null,
            "order": null,
            "overflow": null,
            "overflow_x": null,
            "overflow_y": null,
            "padding": null,
            "right": null,
            "top": null,
            "visibility": null,
            "width": null
          }
        },
        "0a4e4a44e0a5479a8a74248aa8f337bb": {
          "model_module": "@jupyter-widgets/controls",
          "model_name": "DescriptionStyleModel",
          "model_module_version": "1.5.0",
          "state": {
            "_model_module": "@jupyter-widgets/controls",
            "_model_module_version": "1.5.0",
            "_model_name": "DescriptionStyleModel",
            "_view_count": null,
            "_view_module": "@jupyter-widgets/base",
            "_view_module_version": "1.2.0",
            "_view_name": "StyleView",
            "description_width": ""
          }
        },
        "a270e5eb4e414f67b33ff184ca23aae2": {
          "model_module": "@jupyter-widgets/controls",
          "model_name": "HBoxModel",
          "model_module_version": "1.5.0",
          "state": {
            "_dom_classes": [],
            "_model_module": "@jupyter-widgets/controls",
            "_model_module_version": "1.5.0",
            "_model_name": "HBoxModel",
            "_view_count": null,
            "_view_module": "@jupyter-widgets/controls",
            "_view_module_version": "1.5.0",
            "_view_name": "HBoxView",
            "box_style": "",
            "children": [
              "IPY_MODEL_824fd3a3483649f8a82f3202369f7371",
              "IPY_MODEL_9ac51b1c8c9e46528ec984f0e0014342",
              "IPY_MODEL_f1f0c1b9e2c74deeb398477c1c84d13e"
            ],
            "layout": "IPY_MODEL_cb5c4e9bf7cc4a4eb6857d9aba29ff79"
          }
        },
        "824fd3a3483649f8a82f3202369f7371": {
          "model_module": "@jupyter-widgets/controls",
          "model_name": "HTMLModel",
          "model_module_version": "1.5.0",
          "state": {
            "_dom_classes": [],
            "_model_module": "@jupyter-widgets/controls",
            "_model_module_version": "1.5.0",
            "_model_name": "HTMLModel",
            "_view_count": null,
            "_view_module": "@jupyter-widgets/controls",
            "_view_module_version": "1.5.0",
            "_view_name": "HTMLView",
            "description": "",
            "description_tooltip": null,
            "layout": "IPY_MODEL_0f0d421feac243e4bac76096620a7399",
            "placeholder": "​",
            "style": "IPY_MODEL_09d1eeb201674752827121c094103274",
            "value": "Downloading (…)lve/main/config.json: 100%"
          }
        },
        "9ac51b1c8c9e46528ec984f0e0014342": {
          "model_module": "@jupyter-widgets/controls",
          "model_name": "FloatProgressModel",
          "model_module_version": "1.5.0",
          "state": {
            "_dom_classes": [],
            "_model_module": "@jupyter-widgets/controls",
            "_model_module_version": "1.5.0",
            "_model_name": "FloatProgressModel",
            "_view_count": null,
            "_view_module": "@jupyter-widgets/controls",
            "_view_module_version": "1.5.0",
            "_view_name": "ProgressView",
            "bar_style": "success",
            "description": "",
            "description_tooltip": null,
            "layout": "IPY_MODEL_4781e2d8d39348158297290a7834f092",
            "max": 479,
            "min": 0,
            "orientation": "horizontal",
            "style": "IPY_MODEL_b49a8b7878384750822619a45143c493",
            "value": 479
          }
        },
        "f1f0c1b9e2c74deeb398477c1c84d13e": {
          "model_module": "@jupyter-widgets/controls",
          "model_name": "HTMLModel",
          "model_module_version": "1.5.0",
          "state": {
            "_dom_classes": [],
            "_model_module": "@jupyter-widgets/controls",
            "_model_module_version": "1.5.0",
            "_model_name": "HTMLModel",
            "_view_count": null,
            "_view_module": "@jupyter-widgets/controls",
            "_view_module_version": "1.5.0",
            "_view_name": "HTMLView",
            "description": "",
            "description_tooltip": null,
            "layout": "IPY_MODEL_24949bcff33c4585a22348a80d5054aa",
            "placeholder": "​",
            "style": "IPY_MODEL_ee9301a6a5de452c84ad606763cdcffe",
            "value": " 479/479 [00:00&lt;00:00, 11.0kB/s]"
          }
        },
        "cb5c4e9bf7cc4a4eb6857d9aba29ff79": {
          "model_module": "@jupyter-widgets/base",
          "model_name": "LayoutModel",
          "model_module_version": "1.2.0",
          "state": {
            "_model_module": "@jupyter-widgets/base",
            "_model_module_version": "1.2.0",
            "_model_name": "LayoutModel",
            "_view_count": null,
            "_view_module": "@jupyter-widgets/base",
            "_view_module_version": "1.2.0",
            "_view_name": "LayoutView",
            "align_content": null,
            "align_items": null,
            "align_self": null,
            "border": null,
            "bottom": null,
            "display": null,
            "flex": null,
            "flex_flow": null,
            "grid_area": null,
            "grid_auto_columns": null,
            "grid_auto_flow": null,
            "grid_auto_rows": null,
            "grid_column": null,
            "grid_gap": null,
            "grid_row": null,
            "grid_template_areas": null,
            "grid_template_columns": null,
            "grid_template_rows": null,
            "height": null,
            "justify_content": null,
            "justify_items": null,
            "left": null,
            "margin": null,
            "max_height": null,
            "max_width": null,
            "min_height": null,
            "min_width": null,
            "object_fit": null,
            "object_position": null,
            "order": null,
            "overflow": null,
            "overflow_x": null,
            "overflow_y": null,
            "padding": null,
            "right": null,
            "top": null,
            "visibility": null,
            "width": null
          }
        },
        "0f0d421feac243e4bac76096620a7399": {
          "model_module": "@jupyter-widgets/base",
          "model_name": "LayoutModel",
          "model_module_version": "1.2.0",
          "state": {
            "_model_module": "@jupyter-widgets/base",
            "_model_module_version": "1.2.0",
            "_model_name": "LayoutModel",
            "_view_count": null,
            "_view_module": "@jupyter-widgets/base",
            "_view_module_version": "1.2.0",
            "_view_name": "LayoutView",
            "align_content": null,
            "align_items": null,
            "align_self": null,
            "border": null,
            "bottom": null,
            "display": null,
            "flex": null,
            "flex_flow": null,
            "grid_area": null,
            "grid_auto_columns": null,
            "grid_auto_flow": null,
            "grid_auto_rows": null,
            "grid_column": null,
            "grid_gap": null,
            "grid_row": null,
            "grid_template_areas": null,
            "grid_template_columns": null,
            "grid_template_rows": null,
            "height": null,
            "justify_content": null,
            "justify_items": null,
            "left": null,
            "margin": null,
            "max_height": null,
            "max_width": null,
            "min_height": null,
            "min_width": null,
            "object_fit": null,
            "object_position": null,
            "order": null,
            "overflow": null,
            "overflow_x": null,
            "overflow_y": null,
            "padding": null,
            "right": null,
            "top": null,
            "visibility": null,
            "width": null
          }
        },
        "09d1eeb201674752827121c094103274": {
          "model_module": "@jupyter-widgets/controls",
          "model_name": "DescriptionStyleModel",
          "model_module_version": "1.5.0",
          "state": {
            "_model_module": "@jupyter-widgets/controls",
            "_model_module_version": "1.5.0",
            "_model_name": "DescriptionStyleModel",
            "_view_count": null,
            "_view_module": "@jupyter-widgets/base",
            "_view_module_version": "1.2.0",
            "_view_name": "StyleView",
            "description_width": ""
          }
        },
        "4781e2d8d39348158297290a7834f092": {
          "model_module": "@jupyter-widgets/base",
          "model_name": "LayoutModel",
          "model_module_version": "1.2.0",
          "state": {
            "_model_module": "@jupyter-widgets/base",
            "_model_module_version": "1.2.0",
            "_model_name": "LayoutModel",
            "_view_count": null,
            "_view_module": "@jupyter-widgets/base",
            "_view_module_version": "1.2.0",
            "_view_name": "LayoutView",
            "align_content": null,
            "align_items": null,
            "align_self": null,
            "border": null,
            "bottom": null,
            "display": null,
            "flex": null,
            "flex_flow": null,
            "grid_area": null,
            "grid_auto_columns": null,
            "grid_auto_flow": null,
            "grid_auto_rows": null,
            "grid_column": null,
            "grid_gap": null,
            "grid_row": null,
            "grid_template_areas": null,
            "grid_template_columns": null,
            "grid_template_rows": null,
            "height": null,
            "justify_content": null,
            "justify_items": null,
            "left": null,
            "margin": null,
            "max_height": null,
            "max_width": null,
            "min_height": null,
            "min_width": null,
            "object_fit": null,
            "object_position": null,
            "order": null,
            "overflow": null,
            "overflow_x": null,
            "overflow_y": null,
            "padding": null,
            "right": null,
            "top": null,
            "visibility": null,
            "width": null
          }
        },
        "b49a8b7878384750822619a45143c493": {
          "model_module": "@jupyter-widgets/controls",
          "model_name": "ProgressStyleModel",
          "model_module_version": "1.5.0",
          "state": {
            "_model_module": "@jupyter-widgets/controls",
            "_model_module_version": "1.5.0",
            "_model_name": "ProgressStyleModel",
            "_view_count": null,
            "_view_module": "@jupyter-widgets/base",
            "_view_module_version": "1.2.0",
            "_view_name": "StyleView",
            "bar_color": null,
            "description_width": ""
          }
        },
        "24949bcff33c4585a22348a80d5054aa": {
          "model_module": "@jupyter-widgets/base",
          "model_name": "LayoutModel",
          "model_module_version": "1.2.0",
          "state": {
            "_model_module": "@jupyter-widgets/base",
            "_model_module_version": "1.2.0",
            "_model_name": "LayoutModel",
            "_view_count": null,
            "_view_module": "@jupyter-widgets/base",
            "_view_module_version": "1.2.0",
            "_view_name": "LayoutView",
            "align_content": null,
            "align_items": null,
            "align_self": null,
            "border": null,
            "bottom": null,
            "display": null,
            "flex": null,
            "flex_flow": null,
            "grid_area": null,
            "grid_auto_columns": null,
            "grid_auto_flow": null,
            "grid_auto_rows": null,
            "grid_column": null,
            "grid_gap": null,
            "grid_row": null,
            "grid_template_areas": null,
            "grid_template_columns": null,
            "grid_template_rows": null,
            "height": null,
            "justify_content": null,
            "justify_items": null,
            "left": null,
            "margin": null,
            "max_height": null,
            "max_width": null,
            "min_height": null,
            "min_width": null,
            "object_fit": null,
            "object_position": null,
            "order": null,
            "overflow": null,
            "overflow_x": null,
            "overflow_y": null,
            "padding": null,
            "right": null,
            "top": null,
            "visibility": null,
            "width": null
          }
        },
        "ee9301a6a5de452c84ad606763cdcffe": {
          "model_module": "@jupyter-widgets/controls",
          "model_name": "DescriptionStyleModel",
          "model_module_version": "1.5.0",
          "state": {
            "_model_module": "@jupyter-widgets/controls",
            "_model_module_version": "1.5.0",
            "_model_name": "DescriptionStyleModel",
            "_view_count": null,
            "_view_module": "@jupyter-widgets/base",
            "_view_module_version": "1.2.0",
            "_view_name": "StyleView",
            "description_width": ""
          }
        },
        "53cffc83252c4dccbc67184c5c571551": {
          "model_module": "@jupyter-widgets/controls",
          "model_name": "HBoxModel",
          "model_module_version": "1.5.0",
          "state": {
            "_dom_classes": [],
            "_model_module": "@jupyter-widgets/controls",
            "_model_module_version": "1.5.0",
            "_model_name": "HBoxModel",
            "_view_count": null,
            "_view_module": "@jupyter-widgets/controls",
            "_view_module_version": "1.5.0",
            "_view_name": "HBoxView",
            "box_style": "",
            "children": [
              "IPY_MODEL_5e67902165dd436ab2003275ba4d4b30",
              "IPY_MODEL_9cb50e57abd24e17b5213687c267180f",
              "IPY_MODEL_e01e2665bc094b3d9e88e10b7869d95e"
            ],
            "layout": "IPY_MODEL_bba786b3257f40a2882562c35f5363df"
          }
        },
        "5e67902165dd436ab2003275ba4d4b30": {
          "model_module": "@jupyter-widgets/controls",
          "model_name": "HTMLModel",
          "model_module_version": "1.5.0",
          "state": {
            "_dom_classes": [],
            "_model_module": "@jupyter-widgets/controls",
            "_model_module_version": "1.5.0",
            "_model_name": "HTMLModel",
            "_view_count": null,
            "_view_module": "@jupyter-widgets/controls",
            "_view_module_version": "1.5.0",
            "_view_name": "HTMLView",
            "description": "",
            "description_tooltip": null,
            "layout": "IPY_MODEL_994fbd1910d94c1dbe8ed1bee92f07ef",
            "placeholder": "​",
            "style": "IPY_MODEL_67bdeb47c4c64a639d1fffe154b6f2b1",
            "value": "Downloading pytorch_model.bin: 100%"
          }
        },
        "9cb50e57abd24e17b5213687c267180f": {
          "model_module": "@jupyter-widgets/controls",
          "model_name": "FloatProgressModel",
          "model_module_version": "1.5.0",
          "state": {
            "_dom_classes": [],
            "_model_module": "@jupyter-widgets/controls",
            "_model_module_version": "1.5.0",
            "_model_name": "FloatProgressModel",
            "_view_count": null,
            "_view_module": "@jupyter-widgets/controls",
            "_view_module_version": "1.5.0",
            "_view_name": "ProgressView",
            "bar_style": "success",
            "description": "",
            "description_tooltip": null,
            "layout": "IPY_MODEL_a064cea83b1d475bb7f460ac8b4a6f4d",
            "max": 445021143,
            "min": 0,
            "orientation": "horizontal",
            "style": "IPY_MODEL_feacfc872f884ab2aec005af95355234",
            "value": 445021143
          }
        },
        "e01e2665bc094b3d9e88e10b7869d95e": {
          "model_module": "@jupyter-widgets/controls",
          "model_name": "HTMLModel",
          "model_module_version": "1.5.0",
          "state": {
            "_dom_classes": [],
            "_model_module": "@jupyter-widgets/controls",
            "_model_module_version": "1.5.0",
            "_model_name": "HTMLModel",
            "_view_count": null,
            "_view_module": "@jupyter-widgets/controls",
            "_view_module_version": "1.5.0",
            "_view_name": "HTMLView",
            "description": "",
            "description_tooltip": null,
            "layout": "IPY_MODEL_1e22e0d6c6304018ab556794ce425744",
            "placeholder": "​",
            "style": "IPY_MODEL_a41a5501deef418f8d49f3a6b4fc28a2",
            "value": " 445M/445M [00:05&lt;00:00, 88.7MB/s]"
          }
        },
        "bba786b3257f40a2882562c35f5363df": {
          "model_module": "@jupyter-widgets/base",
          "model_name": "LayoutModel",
          "model_module_version": "1.2.0",
          "state": {
            "_model_module": "@jupyter-widgets/base",
            "_model_module_version": "1.2.0",
            "_model_name": "LayoutModel",
            "_view_count": null,
            "_view_module": "@jupyter-widgets/base",
            "_view_module_version": "1.2.0",
            "_view_name": "LayoutView",
            "align_content": null,
            "align_items": null,
            "align_self": null,
            "border": null,
            "bottom": null,
            "display": null,
            "flex": null,
            "flex_flow": null,
            "grid_area": null,
            "grid_auto_columns": null,
            "grid_auto_flow": null,
            "grid_auto_rows": null,
            "grid_column": null,
            "grid_gap": null,
            "grid_row": null,
            "grid_template_areas": null,
            "grid_template_columns": null,
            "grid_template_rows": null,
            "height": null,
            "justify_content": null,
            "justify_items": null,
            "left": null,
            "margin": null,
            "max_height": null,
            "max_width": null,
            "min_height": null,
            "min_width": null,
            "object_fit": null,
            "object_position": null,
            "order": null,
            "overflow": null,
            "overflow_x": null,
            "overflow_y": null,
            "padding": null,
            "right": null,
            "top": null,
            "visibility": null,
            "width": null
          }
        },
        "994fbd1910d94c1dbe8ed1bee92f07ef": {
          "model_module": "@jupyter-widgets/base",
          "model_name": "LayoutModel",
          "model_module_version": "1.2.0",
          "state": {
            "_model_module": "@jupyter-widgets/base",
            "_model_module_version": "1.2.0",
            "_model_name": "LayoutModel",
            "_view_count": null,
            "_view_module": "@jupyter-widgets/base",
            "_view_module_version": "1.2.0",
            "_view_name": "LayoutView",
            "align_content": null,
            "align_items": null,
            "align_self": null,
            "border": null,
            "bottom": null,
            "display": null,
            "flex": null,
            "flex_flow": null,
            "grid_area": null,
            "grid_auto_columns": null,
            "grid_auto_flow": null,
            "grid_auto_rows": null,
            "grid_column": null,
            "grid_gap": null,
            "grid_row": null,
            "grid_template_areas": null,
            "grid_template_columns": null,
            "grid_template_rows": null,
            "height": null,
            "justify_content": null,
            "justify_items": null,
            "left": null,
            "margin": null,
            "max_height": null,
            "max_width": null,
            "min_height": null,
            "min_width": null,
            "object_fit": null,
            "object_position": null,
            "order": null,
            "overflow": null,
            "overflow_x": null,
            "overflow_y": null,
            "padding": null,
            "right": null,
            "top": null,
            "visibility": null,
            "width": null
          }
        },
        "67bdeb47c4c64a639d1fffe154b6f2b1": {
          "model_module": "@jupyter-widgets/controls",
          "model_name": "DescriptionStyleModel",
          "model_module_version": "1.5.0",
          "state": {
            "_model_module": "@jupyter-widgets/controls",
            "_model_module_version": "1.5.0",
            "_model_name": "DescriptionStyleModel",
            "_view_count": null,
            "_view_module": "@jupyter-widgets/base",
            "_view_module_version": "1.2.0",
            "_view_name": "StyleView",
            "description_width": ""
          }
        },
        "a064cea83b1d475bb7f460ac8b4a6f4d": {
          "model_module": "@jupyter-widgets/base",
          "model_name": "LayoutModel",
          "model_module_version": "1.2.0",
          "state": {
            "_model_module": "@jupyter-widgets/base",
            "_model_module_version": "1.2.0",
            "_model_name": "LayoutModel",
            "_view_count": null,
            "_view_module": "@jupyter-widgets/base",
            "_view_module_version": "1.2.0",
            "_view_name": "LayoutView",
            "align_content": null,
            "align_items": null,
            "align_self": null,
            "border": null,
            "bottom": null,
            "display": null,
            "flex": null,
            "flex_flow": null,
            "grid_area": null,
            "grid_auto_columns": null,
            "grid_auto_flow": null,
            "grid_auto_rows": null,
            "grid_column": null,
            "grid_gap": null,
            "grid_row": null,
            "grid_template_areas": null,
            "grid_template_columns": null,
            "grid_template_rows": null,
            "height": null,
            "justify_content": null,
            "justify_items": null,
            "left": null,
            "margin": null,
            "max_height": null,
            "max_width": null,
            "min_height": null,
            "min_width": null,
            "object_fit": null,
            "object_position": null,
            "order": null,
            "overflow": null,
            "overflow_x": null,
            "overflow_y": null,
            "padding": null,
            "right": null,
            "top": null,
            "visibility": null,
            "width": null
          }
        },
        "feacfc872f884ab2aec005af95355234": {
          "model_module": "@jupyter-widgets/controls",
          "model_name": "ProgressStyleModel",
          "model_module_version": "1.5.0",
          "state": {
            "_model_module": "@jupyter-widgets/controls",
            "_model_module_version": "1.5.0",
            "_model_name": "ProgressStyleModel",
            "_view_count": null,
            "_view_module": "@jupyter-widgets/base",
            "_view_module_version": "1.2.0",
            "_view_name": "StyleView",
            "bar_color": null,
            "description_width": ""
          }
        },
        "1e22e0d6c6304018ab556794ce425744": {
          "model_module": "@jupyter-widgets/base",
          "model_name": "LayoutModel",
          "model_module_version": "1.2.0",
          "state": {
            "_model_module": "@jupyter-widgets/base",
            "_model_module_version": "1.2.0",
            "_model_name": "LayoutModel",
            "_view_count": null,
            "_view_module": "@jupyter-widgets/base",
            "_view_module_version": "1.2.0",
            "_view_name": "LayoutView",
            "align_content": null,
            "align_items": null,
            "align_self": null,
            "border": null,
            "bottom": null,
            "display": null,
            "flex": null,
            "flex_flow": null,
            "grid_area": null,
            "grid_auto_columns": null,
            "grid_auto_flow": null,
            "grid_auto_rows": null,
            "grid_column": null,
            "grid_gap": null,
            "grid_row": null,
            "grid_template_areas": null,
            "grid_template_columns": null,
            "grid_template_rows": null,
            "height": null,
            "justify_content": null,
            "justify_items": null,
            "left": null,
            "margin": null,
            "max_height": null,
            "max_width": null,
            "min_height": null,
            "min_width": null,
            "object_fit": null,
            "object_position": null,
            "order": null,
            "overflow": null,
            "overflow_x": null,
            "overflow_y": null,
            "padding": null,
            "right": null,
            "top": null,
            "visibility": null,
            "width": null
          }
        },
        "a41a5501deef418f8d49f3a6b4fc28a2": {
          "model_module": "@jupyter-widgets/controls",
          "model_name": "DescriptionStyleModel",
          "model_module_version": "1.5.0",
          "state": {
            "_model_module": "@jupyter-widgets/controls",
            "_model_module_version": "1.5.0",
            "_model_name": "DescriptionStyleModel",
            "_view_count": null,
            "_view_module": "@jupyter-widgets/base",
            "_view_module_version": "1.2.0",
            "_view_name": "StyleView",
            "description_width": ""
          }
        }
      }
    }
  },
  "nbformat": 4,
  "nbformat_minor": 5
}