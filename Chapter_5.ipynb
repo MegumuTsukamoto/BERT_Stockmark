{
  "cells": [
    {
      "cell_type": "markdown",
      "metadata": {
        "id": "view-in-github",
        "colab_type": "text"
      },
      "source": [
        "<a href=\"https://colab.research.google.com/github/MegumuTsukamoto/BERT_Stockmark/blob/main/Chapter_5.ipynb\" target=\"_parent\"><img src=\"https://colab.research.google.com/assets/colab-badge.svg\" alt=\"Open In Colab\"/></a>"
      ]
    },
    {
      "cell_type": "markdown",
      "id": "0ed53ca9",
      "metadata": {
        "id": "0ed53ca9"
      },
      "source": [
        "$\\large{\\text{5. 文章の穴埋め}}$"
      ]
    },
    {
      "cell_type": "code",
      "source": [
        "from google.colab import drive\n",
        "drive.mount('/content/drive/')"
      ],
      "metadata": {
        "colab": {
          "base_uri": "https://localhost:8080/"
        },
        "id": "D9UasXB5Wjcu",
        "outputId": "e5f2a90f-e5b9-45de-fa06-b43c64422077"
      },
      "id": "D9UasXB5Wjcu",
      "execution_count": 15,
      "outputs": [
        {
          "output_type": "stream",
          "name": "stdout",
          "text": [
            "Drive already mounted at /content/drive/; to attempt to forcibly remount, call drive.mount(\"/content/drive/\", force_remount=True).\n"
          ]
        }
      ]
    },
    {
      "cell_type": "markdown",
      "source": [
        "マスク付き言語モデルとしてのBERT...文章の1部のトークンを特殊トークン[MASK]に変換したものを入力として与え、[MASK]に入るものは何かを予測するタスクを用いて事前学習する。そのため、事前学習後のBERTでは一部が除かれた文章の穴埋めを行うことができる。"
      ],
      "metadata": {
        "id": "BeAVXZlBmXS4"
      },
      "id": "BeAVXZlBmXS4"
    },
    {
      "cell_type": "code",
      "execution_count": 16,
      "id": "fc5663f3",
      "metadata": {
        "colab": {
          "base_uri": "https://localhost:8080/"
        },
        "id": "fc5663f3",
        "outputId": "757b00b9-ee2c-46c3-9872-0faefc055d70"
      },
      "outputs": [
        {
          "output_type": "stream",
          "name": "stdout",
          "text": [
            "Looking in indexes: https://pypi.org/simple, https://us-python.pkg.dev/colab-wheels/public/simple/\n",
            "Requirement already satisfied: transformers[ja] in /usr/local/lib/python3.10/dist-packages (4.28.1)\n",
            "Requirement already satisfied: filelock in /usr/local/lib/python3.10/dist-packages (from transformers[ja]) (3.12.0)\n",
            "Requirement already satisfied: huggingface-hub<1.0,>=0.11.0 in /usr/local/lib/python3.10/dist-packages (from transformers[ja]) (0.14.1)\n",
            "Requirement already satisfied: numpy>=1.17 in /usr/local/lib/python3.10/dist-packages (from transformers[ja]) (1.22.4)\n",
            "Requirement already satisfied: packaging>=20.0 in /usr/local/lib/python3.10/dist-packages (from transformers[ja]) (23.1)\n",
            "Requirement already satisfied: pyyaml>=5.1 in /usr/local/lib/python3.10/dist-packages (from transformers[ja]) (6.0)\n",
            "Requirement already satisfied: regex!=2019.12.17 in /usr/local/lib/python3.10/dist-packages (from transformers[ja]) (2022.10.31)\n",
            "Requirement already satisfied: requests in /usr/local/lib/python3.10/dist-packages (from transformers[ja]) (2.27.1)\n",
            "Requirement already satisfied: tokenizers!=0.11.3,<0.14,>=0.11.1 in /usr/local/lib/python3.10/dist-packages (from transformers[ja]) (0.13.3)\n",
            "Requirement already satisfied: tqdm>=4.27 in /usr/local/lib/python3.10/dist-packages (from transformers[ja]) (4.65.0)\n",
            "Requirement already satisfied: fugashi>=1.0 in /usr/local/lib/python3.10/dist-packages (from transformers[ja]) (1.2.1)\n",
            "Requirement already satisfied: ipadic<2.0,>=1.0.0 in /usr/local/lib/python3.10/dist-packages (from transformers[ja]) (1.0.0)\n",
            "Requirement already satisfied: unidic-lite>=1.0.7 in /usr/local/lib/python3.10/dist-packages (from transformers[ja]) (1.0.8)\n",
            "Requirement already satisfied: unidic>=1.0.2 in /usr/local/lib/python3.10/dist-packages (from transformers[ja]) (1.1.0)\n",
            "Requirement already satisfied: sudachipy>=0.6.6 in /usr/local/lib/python3.10/dist-packages (from transformers[ja]) (0.6.7)\n",
            "Requirement already satisfied: sudachidict-core>=20220729 in /usr/local/lib/python3.10/dist-packages (from transformers[ja]) (20230110)\n",
            "Requirement already satisfied: rhoknp>=1.1.0 in /usr/local/lib/python3.10/dist-packages (from transformers[ja]) (1.3.0)\n",
            "Requirement already satisfied: fsspec in /usr/local/lib/python3.10/dist-packages (from huggingface-hub<1.0,>=0.11.0->transformers[ja]) (2023.4.0)\n",
            "Requirement already satisfied: typing-extensions>=3.7.4.3 in /usr/local/lib/python3.10/dist-packages (from huggingface-hub<1.0,>=0.11.0->transformers[ja]) (4.5.0)\n",
            "Requirement already satisfied: wasabi<1.0.0,>=0.6.0 in /usr/local/lib/python3.10/dist-packages (from unidic>=1.0.2->transformers[ja]) (0.10.1)\n",
            "Requirement already satisfied: plac<2.0.0,>=1.1.3 in /usr/local/lib/python3.10/dist-packages (from unidic>=1.0.2->transformers[ja]) (1.3.5)\n",
            "Requirement already satisfied: urllib3<1.27,>=1.21.1 in /usr/local/lib/python3.10/dist-packages (from requests->transformers[ja]) (1.26.15)\n",
            "Requirement already satisfied: certifi>=2017.4.17 in /usr/local/lib/python3.10/dist-packages (from requests->transformers[ja]) (2022.12.7)\n",
            "Requirement already satisfied: charset-normalizer~=2.0.0 in /usr/local/lib/python3.10/dist-packages (from requests->transformers[ja]) (2.0.12)\n",
            "Requirement already satisfied: idna<4,>=2.5 in /usr/local/lib/python3.10/dist-packages (from requests->transformers[ja]) (3.4)\n"
          ]
        }
      ],
      "source": [
        "# 5-1\n",
        "# PyTorchとMeCabはColaboratoryに最初からインストールされている\n",
        "# !pip install transformers=4.5.0 fugashi==1.1.0 ipadic==1.0.0 ではエラー。下記でFugashiもIpadicも入る\n",
        "!pip install transformers[ja]"
      ]
    },
    {
      "cell_type": "code",
      "execution_count": 17,
      "id": "d6111b46",
      "metadata": {
        "id": "d6111b46"
      },
      "outputs": [],
      "source": [
        "# 5-2\n",
        "# ライブラリの読み込み\n",
        "import numpy as np\n",
        "import torch\n",
        "# from transformers import BertJapanese-Tokenizer, BertForMaskedLM\n",
        "from transformers import BertJapaneseTokenizer, BertForMaskedLM # 今回はMaskedLMを使う"
      ]
    },
    {
      "cell_type": "code",
      "execution_count": 18,
      "id": "20ba40e7",
      "metadata": {
        "id": "20ba40e7",
        "outputId": "468e5350-61eb-4f5f-eab7-4a790b700ea2",
        "colab": {
          "base_uri": "https://localhost:8080/"
        }
      },
      "outputs": [
        {
          "output_type": "stream",
          "name": "stderr",
          "text": [
            "Some weights of the model checkpoint at cl-tohoku/bert-base-japanese-whole-word-masking were not used when initializing BertForMaskedLM: ['cls.seq_relationship.bias', 'cls.seq_relationship.weight']\n",
            "- This IS expected if you are initializing BertForMaskedLM from the checkpoint of a model trained on another task or with another architecture (e.g. initializing a BertForSequenceClassification model from a BertForPreTraining model).\n",
            "- This IS NOT expected if you are initializing BertForMaskedLM from the checkpoint of a model that you expect to be exactly identical (initializing a BertForSequenceClassification model from a BertForSequenceClassification model).\n"
          ]
        }
      ],
      "source": [
        "# 5-3\n",
        "# 東北大学の日本語モデルによるトークナイザとモデルのロード\n",
        "model_name = 'cl-tohoku/bert-base-japanese-whole-word-masking'\n",
        "tokenizer = BertJapaneseTokenizer.from_pretrained(model_name)\n",
        "bert_mlm = BertForMaskedLM.from_pretrained(model_name)\n",
        "bert_mlm = bert_mlm.cuda() # モデルをGPUに載せる"
      ]
    },
    {
      "cell_type": "code",
      "execution_count": 19,
      "id": "f1e86a37",
      "metadata": {
        "id": "f1e86a37",
        "outputId": "96fb35e9-0561-4a6d-e6dd-722904ea5221",
        "colab": {
          "base_uri": "https://localhost:8080/"
        }
      },
      "outputs": [
        {
          "output_type": "execute_result",
          "data": {
            "text/plain": [
              "['今日', 'は', '[MASK]', 'へ', '行く', '。']"
            ]
          },
          "metadata": {},
          "execution_count": 19
        }
      ],
      "source": [
        "# 5-4\n",
        "# 穴空き文章（MLMのインプット）のトークン化\n",
        "text = '今日は[MASK]へ行く。'\n",
        "tokenizer.tokenize(text)"
      ]
    },
    {
      "cell_type": "code",
      "source": [
        "# 5-5\n",
        "# BertForMaskedLM は特殊トークン[MASK]に入るトークンを語彙の中から予測する。\n",
        "# BertForMaskedLM の中にはBertModel と同様に、符号化された文章（トークン列）を入力する。\n",
        "# 文章を符号化し、GPUに配置する\n",
        "input_ids = tokenizer.encode(text, return_tensors='pt')\n",
        "input_ids = input_ids.cuda()\n",
        "\n",
        "# BERTに入力し、分類スコアを得る\n",
        "# 系列長を考える必要がないので、単にinput_idsのみ入力\n",
        "with torch.no_grad(): # 推論のみなので途中計算を保存しない\n",
        "  output = bert_mlm(input_ids=input_ids)\n",
        "  scores = output.logits"
      ],
      "metadata": {
        "id": "6-bMWm9aoWOO"
      },
      "id": "6-bMWm9aoWOO",
      "execution_count": 20,
      "outputs": []
    },
    {
      "cell_type": "code",
      "source": [
        "# 5-6\n",
        "# 上記scoresから、[MASK]に入るトークンを予測\n",
        "\n",
        "# ID列で、'[MASK]'の位置（IDの数は4）の位置を調べる（[CLS]:0番目からスタートして3番目）\n",
        "input_ids = input_ids.cpu() # CPUに移して\n",
        "input_ids = input_ids.numpy() # ndarrayに変換して\n",
        "mask_position = input_ids[0].tolist().index(4) # ようやくリスト型にできる？\n",
        "print(mask_position)\n",
        "\n",
        "# スコアが最も良いトークンのIDを取り出し、トークンに変換する（今は、'東京'が最もスコアが高い）\n",
        "id_best = scores[0, mask_position].argmax(-1).item()\n",
        "token_best = tokenizer.convert_ids_to_tokens(id_best)\n",
        "token_best = token_best.replace('##', '')\n",
        "\n",
        "# 上で求めたトークンを[MASK]の部分と入れ替える\n",
        "text = text.replace('[MASK]', token_best)\n",
        "print(text)"
      ],
      "metadata": {
        "colab": {
          "base_uri": "https://localhost:8080/"
        },
        "id": "vllesdi1vje4",
        "outputId": "53b4649b-914a-4241-a93e-ee1578829800"
      },
      "id": "vllesdi1vje4",
      "execution_count": 21,
      "outputs": [
        {
          "output_type": "stream",
          "name": "stdout",
          "text": [
            "3\n",
            "今日は東京へ行く。\n"
          ]
        }
      ]
    },
    {
      "cell_type": "code",
      "execution_count": 22,
      "id": "4c55d43b",
      "metadata": {
        "id": "4c55d43b",
        "colab": {
          "base_uri": "https://localhost:8080/"
        },
        "outputId": "f158a534-a9fb-4103-a8c9-f90c1d976660"
      },
      "outputs": [
        {
          "output_type": "stream",
          "name": "stdout",
          "text": [
            "['今日は東京へ行く。', '今日はハワイへ行く。', '今日は学校へ行く。', '今日はニューヨークへ行く。', '今日はどこへ行く。', '今日は空港へ行く。', '今日はアメリカへ行く。', '今日は病院へ行く。', '今日はそこへ行く。', '今日はロンドンへ行く。']\n",
            "[9.178561  9.145953  8.923238  8.838815  8.319213  8.1805105 7.91759\n",
            " 7.8333464 7.826694  7.807024 ]\n",
            "--------------------------------------------------\n",
            "アンパックした場合\n",
            "--------------------------------------------------\n",
            "今日は東京へ行く。\n",
            "今日はハワイへ行く。\n",
            "今日は学校へ行く。\n",
            "今日はニューヨークへ行く。\n",
            "今日はどこへ行く。\n",
            "今日は空港へ行く。\n",
            "今日はアメリカへ行く。\n",
            "今日は病院へ行く。\n",
            "今日はそこへ行く。\n",
            "今日はロンドンへ行く。\n"
          ]
        }
      ],
      "source": [
        "# 5-7\n",
        "# [MASK]を、最もスコアが高い'東京'だけじゃなく、上位10個のトークンに置き換えた場合の処理を行う関数\n",
        "def predict_mask_topk(text, tokenizer, bert_mlm, num_topk):\n",
        "  \n",
        "  # 文章中の最初の[MASK]をスコアの上位のトークンに置き換える\n",
        "  # 上位何個を[MASK]の代わりに入れるかはnum_topk=で指定\n",
        "  # 出力は穴埋めされた文章のリストと、置き換えられた\n",
        "  \n",
        "  # 文章を符号化し、BERTで分類スコアを得る\n",
        "  input_ids = tokenizer.encode(text, return_tensors='pt')\n",
        "  input_ids = input_ids.cuda()\n",
        "  with torch.no_grad(): # 推論のみなので途中計算を保存しない\n",
        "    output = bert_mlm(input_ids=input_ids)\n",
        "    scores = output.logits\n",
        "  \n",
        "  # スコアが上位のトークンとそのスコアを求める\n",
        "  input_ids = input_ids.cpu()\n",
        "  input_ids = input_ids.numpy()\n",
        "  mask_position = input_ids[0].tolist().index(4)\n",
        "  topk = scores[0, mask_position].topk(num_topk)\n",
        "  ids_topk = topk.indices # トークンのID\n",
        "  tokens_topk = tokenizer.convert_ids_to_tokens(ids_topk) # IDからトークンに変換\n",
        "  scores_topk = topk.values.cpu().numpy() # スコア\n",
        "\n",
        "  # 上で求めたトークンを[MASK]の部分と入れ替える\n",
        "  text_topk = []\n",
        "  for token in tokens_topk:\n",
        "    token = token.replace('##', '')\n",
        "    text_topk.append(text.replace('[MASK]', token, 1))\n",
        "\n",
        "  return text_topk, scores_topk\n",
        "\n",
        "text = '今日は[MASK]へ行く。'\n",
        "text_topk, scores_topk = predict_mask_topk(text, tokenizer, bert_mlm, num_topk=10)\n",
        "print(text_topk, sep='\\n')\n",
        "print(scores_topk, sep='\\n')\n",
        "print('-'*50)\n",
        "print('アンパックした場合')\n",
        "print('-'*50)\n",
        "print(*text_topk, sep='\\n')"
      ]
    },
    {
      "cell_type": "markdown",
      "source": [
        "（注）ここまでは、[MASK]が１つの場合の穴埋めを考えたが、以下のような２つある場合も考えることができる。\n",
        "$$\\text{今日は [MASK] [MASK] へ行く。}$$\n",
        "1つの[MASK]に対して32,000通りの候補があるため、２つの場合は32,000×32,000通りの候補がある。このため、近似的な手法で「貪欲法」というものがある。これは、まず一番最初の[MASK]を最も高いスコアのトークンで穴埋めをし、その穴埋め後の文章から次の[MASK]の穴埋めを逐次的に行っていくという方法である。"
      ],
      "metadata": {
        "id": "YPls1qX-NNsf"
      },
      "id": "YPls1qX-NNsf"
    },
    {
      "cell_type": "code",
      "execution_count": 23,
      "id": "41bcd183",
      "metadata": {
        "id": "41bcd183",
        "colab": {
          "base_uri": "https://localhost:8080/",
          "height": 35
        },
        "outputId": "226765de-275c-476f-9ace-ccf7eb22c9bf"
      },
      "outputs": [
        {
          "output_type": "execute_result",
          "data": {
            "text/plain": [
              "'今日は、東京へ行く。'"
            ],
            "application/vnd.google.colaboratory.intrinsic+json": {
              "type": "string"
            }
          },
          "metadata": {},
          "execution_count": 23
        }
      ],
      "source": [
        "# 5-8\n",
        "# 貪欲法を使用して、文章の穴埋めを行う。\n",
        "def greedy_prediction(text, tokenizer, bert_mlm):\n",
        "  for _ in range(text.count('[MASK]')):\n",
        "    text = predict_mask_topk(text, tokenizer, bert_mlm, 1)[0][0]\n",
        "  return text\n",
        "\n",
        "text = '今日は[MASK][MASK]へ行く。' # [MASK]が2つある文章\n",
        "greedy_prediction(text, tokenizer, bert_mlm)"
      ]
    },
    {
      "cell_type": "code",
      "execution_count": 24,
      "id": "769305a0",
      "metadata": {
        "id": "769305a0",
        "outputId": "04d0ad43-56b2-4ede-a4c8-9f3c4cf89c32",
        "colab": {
          "base_uri": "https://localhost:8080/",
          "height": 35
        }
      },
      "outputs": [
        {
          "output_type": "execute_result",
          "data": {
            "text/plain": [
              "'今日は社会社会的な地位'"
            ],
            "application/vnd.google.colaboratory.intrinsic+json": {
              "type": "string"
            }
          },
          "metadata": {},
          "execution_count": 24
        }
      ],
      "source": [
        "# 5-9\n",
        "# 一方、BERTは文章を前から順番に生成していくのは得意でない\n",
        "text = '今日は[MASK][MASK][MASK][MASK][MASK]' # [MASK]だらけの文章\n",
        "greedy_prediction(text, tokenizer, bert_mlm) # デタラメな文章に"
      ]
    },
    {
      "cell_type": "markdown",
      "source": [
        "このように、大部分が[MASK]の場合、デタラメな文章が生成される。これはBERTの事前学習の段階で、文章のうちごく一部分のトークンのみを[MASK]に置き換えて、周りの文脈からトークンを予測するというタスクを用いているからであり、大部分が[MASK]の場合における予測は事前学習していない。文章を前から順番に生成するためには、事前学習の段階で現在までのトークンから次のトークンを予測するというタスクを用いる必要があり、GPTモデルはこのような方式で事前学習を行っている。"
      ],
      "metadata": {
        "id": "mIAShvvaRkZA"
      },
      "id": "mIAShvvaRkZA"
    },
    {
      "cell_type": "markdown",
      "source": [
        "ビームサーチ...貪欲法では、前から順番にスコア最高のトークンで置き換えを行っているが、最終的な合計スコアの最適化になっているとは限らない。より良い近似手法がビームサーチで、これは複数文章を出力できる。これは、一番最初の[MASK]において、スコアが高い10個のトークンで穴埋めした10個の穴埋め後文章を作り、次の[MASK]においても、スコアが高い10個のトークンで穴埋めした10個の穴埋め後文章を作り、最終的に100個の文章から合計スコアが高い10個の文章をアウトプットとする。"
      ],
      "metadata": {
        "id": "7qBks3lvTHgt"
      },
      "id": "7qBks3lvTHgt"
    },
    {
      "cell_type": "code",
      "execution_count": 25,
      "id": "22cbc2da",
      "metadata": {
        "id": "22cbc2da",
        "colab": {
          "base_uri": "https://localhost:8080/"
        },
        "outputId": "9478001d-e350-4ecb-c866-923dc8976dbb"
      },
      "outputs": [
        {
          "output_type": "stream",
          "name": "stdout",
          "text": [
            "['今日は、東京へ行く。', '今日は、ハワイへ行く。', '今日は、学校へ行く。', '今日は、ニューヨークへ行く。', '今日は、空港へ行く。', '今日は、北海道へ行く。', '今日は、パリへ行く。', '今日は、アメリカへ行く。', '今日は、日本へ行く。', '今日は、病院へ行く。']\n",
            "--------------------------------------------------\n",
            "アンパックした場合\n",
            "--------------------------------------------------\n",
            "今日は、東京へ行く。\n",
            "今日は、ハワイへ行く。\n",
            "今日は、学校へ行く。\n",
            "今日は、ニューヨークへ行く。\n",
            "今日は、空港へ行く。\n",
            "今日は、北海道へ行く。\n",
            "今日は、パリへ行く。\n",
            "今日は、アメリカへ行く。\n",
            "今日は、日本へ行く。\n",
            "今日は、病院へ行く。\n"
          ]
        }
      ],
      "source": [
        "# 5-10\n",
        "# ビームサーチで文章の穴埋めを行う\n",
        "def beam_search(text, tokenizer, bert_mlm, num_topk):\n",
        "  \n",
        "  num_mask = text.count('[MASK]')\n",
        "  text_topk = [text]\n",
        "  scores_topk = np.array([0])\n",
        "\n",
        "  # 現在得られている、それぞれの文章に対して、最初の[MASK]をスコアが上位のトークンで穴埋めする\n",
        "  for _ in range(num_mask):\n",
        "    text_candidates = [] # それぞれの文章を穴埋めした結果を追加する\n",
        "    score_candidates = [] # 穴埋めに使ったトークンのスコアを追加する\n",
        "\n",
        "    for text_mask, score in zip(text_topk, scores_topk):\n",
        "      text_topk_inner, scores_topk_inner = predict_mask_topk(\n",
        "          text_mask, tokenizer, bert_mlm, num_topk\n",
        "      )\n",
        "      text_candidates.extend(text_topk_inner)\n",
        "      score_candidates.append(score + scores_topk_inner)\n",
        "\n",
        "    # 穴埋めによって生成された文章の中から合計スコアの高いものを選ぶ\n",
        "    score_candidates = np.hstack(score_candidates) # 横方向に結合\n",
        "    idx_list = score_candidates.argsort()[::-1][:num_topk]\n",
        "    text_topk = [text_candidates[idx] for idx in idx_list]\n",
        "    score_topk = score_candidates[idx_list]\n",
        "\n",
        "  return text_topk\n",
        "\n",
        "text = '今日は[MASK][MASK]へ行く。'\n",
        "text_topk = beam_search(text, tokenizer, bert_mlm, num_topk=10)\n",
        "print(text_topk, sep='\\n')\n",
        "print('-'*50)\n",
        "print('アンパックした場合')\n",
        "print('-'*50)\n",
        "print(*text_topk, sep='\\n') # 貪欲法と同じく自然な文章が出力され、バリエーションにも富んでいる"
      ]
    },
    {
      "cell_type": "code",
      "execution_count": 26,
      "id": "0f63a856",
      "metadata": {
        "id": "0f63a856",
        "outputId": "30f1a7c9-e1a2-4c89-e957-ff68d03f9222",
        "colab": {
          "base_uri": "https://localhost:8080/"
        }
      },
      "outputs": [
        {
          "output_type": "stream",
          "name": "stdout",
          "text": [
            "今日は社会社会的な地位\n",
            "今日は社会社会的な組織\n",
            "今日は社会社会的なもの\n",
            "今日は社会社会的な活動\n",
            "今日は社会社会的な団体\n",
            "今日は社会社会的な状況\n",
            "今日は社会社会的な概念\n",
            "今日は社会社会的な役割\n",
            "今日は社会社会的な存在\n",
            "今日は社会社会的な意味\n"
          ]
        }
      ],
      "source": [
        "# 5-11\n",
        "# 貪欲法と同様に、大部分が[MASK]の文章では自然な文章の生成は難しい\n",
        "text = '今日は[MASK][MASK][MASK][MASK][MASK]'\n",
        "text_topk = beam_search(text, tokenizer, bert_mlm, num_topk=10)\n",
        "print(*text_topk, sep='\\n')"
      ]
    }
  ],
  "metadata": {
    "kernelspec": {
      "display_name": "Python 3.7.13 ('base')",
      "language": "python",
      "name": "python3"
    },
    "language_info": {
      "codemirror_mode": {
        "name": "ipython",
        "version": 3
      },
      "file_extension": ".py",
      "mimetype": "text/x-python",
      "name": "python",
      "nbconvert_exporter": "python",
      "pygments_lexer": "ipython3",
      "version": "3.7.13"
    },
    "vscode": {
      "interpreter": {
        "hash": "40d3a090f54c6569ab1632332b64b2c03c39dcf918b08424e98f38b5ae0af88f"
      }
    },
    "colab": {
      "provenance": [],
      "include_colab_link": true
    },
    "accelerator": "GPU",
    "gpuClass": "standard"
  },
  "nbformat": 4,
  "nbformat_minor": 5
}